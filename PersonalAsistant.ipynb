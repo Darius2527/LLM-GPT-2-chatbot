{
  "nbformat": 4,
  "nbformat_minor": 0,
  "metadata": {
    "colab": {
      "provenance": [],
      "gpuType": "T4",
      "authorship_tag": "ABX9TyMmSbjv198SwO3kvB0LS2vA",
      "include_colab_link": true
    },
    "kernelspec": {
      "name": "python3",
      "display_name": "Python 3"
    },
    "language_info": {
      "name": "python"
    },
    "accelerator": "GPU"
  },
  "cells": [
    {
      "cell_type": "markdown",
      "metadata": {
        "id": "view-in-github",
        "colab_type": "text"
      },
      "source": [
        "<a href=\"https://colab.research.google.com/github/Darius2527/LLM-GPT-2-chatbot/blob/main/PersonalAsistant.ipynb\" target=\"_parent\"><img src=\"https://colab.research.google.com/assets/colab-badge.svg\" alt=\"Open In Colab\"/></a>"
      ]
    },
    {
      "cell_type": "markdown",
      "source": [
        "###Importing the Dataset"
      ],
      "metadata": {
        "id": "zOLA1Vi7rIcK"
      }
    },
    {
      "cell_type": "markdown",
      "source": [
        "The dataset that we are going to be using consistst of 1100 input output pairs in the alpaca format\n",
        "\n",
        "The Alpaca format is a specific dataset structure used for fine-tuning large language models (LLMs), introduced by Stanford University's Alpaca project. It became widely recognized because it helped adapt a base LLM (e.g., LLaMA) to perform instruction-following tasks more effectively. The format is derived from OpenAI's InstructGPT training methodology but adapted for lightweight implementation.\n",
        "\n",
        "The dataset consists of JSON objects, where each object typically contains three fields:\n",
        "\n",
        "Instruction:\n",
        "\n",
        "Describes the task the model is supposed to perform.\n",
        "Examples: \"Summarize the following text,\" \"Translate the sentence into French,\" etc.\n",
        "\n",
        "Input (optional):\n",
        "\n",
        "Provides additional context or input required to complete the instruction.\n",
        "If no additional context is needed, this can be an empty string.\n",
        "\n",
        "Output:\n",
        "\n",
        "The desired response or ground truth for the task described in the instruction.\n",
        "The model is trained to generate this output given the instruction (and optionally, the input)."
      ],
      "metadata": {
        "id": "27z99XIZEpo9"
      }
    },
    {
      "cell_type": "code",
      "execution_count": 1,
      "metadata": {
        "id": "UzEBR00mqER6"
      },
      "outputs": [],
      "source": [
        "import json\n",
        "\n",
        "with open(\"instruction-data.json\", 'r') as f:\n",
        "    data = json.load(f)"
      ]
    },
    {
      "cell_type": "code",
      "source": [
        "print(\"No of entries:\",len(data))"
      ],
      "metadata": {
        "colab": {
          "base_uri": "https://localhost:8080/"
        },
        "id": "a2ygMeKMqWdS",
        "outputId": "e947fd74-4201-467d-b79f-3ac0aef4ee3c"
      },
      "execution_count": 2,
      "outputs": [
        {
          "output_type": "stream",
          "name": "stdout",
          "text": [
            "No of entries: 1100\n"
          ]
        }
      ]
    },
    {
      "cell_type": "code",
      "source": [
        "print(data[50])"
      ],
      "metadata": {
        "colab": {
          "base_uri": "https://localhost:8080/"
        },
        "id": "e28g5fbtqdcw",
        "outputId": "21290005-64e7-48f4-ffc4-4349b66d7412"
      },
      "execution_count": 3,
      "outputs": [
        {
          "output_type": "stream",
          "name": "stdout",
          "text": [
            "{'instruction': 'Identify the correct spelling of the following word.', 'input': 'Ocassion', 'output': \"The correct spelling is 'Occasion.'\"}\n"
          ]
        }
      ]
    },
    {
      "cell_type": "code",
      "source": [
        "#for visualization\n",
        "import pandas as pd\n",
        "\n",
        "data_df = pd.DataFrame(data)\n",
        "data_df.head()"
      ],
      "metadata": {
        "colab": {
          "base_uri": "https://localhost:8080/",
          "height": 258
        },
        "id": "b4BIsxTgqfZc",
        "outputId": "952d8638-31fe-40e3-a041-9ab9d77443ad"
      },
      "execution_count": 4,
      "outputs": [
        {
          "output_type": "execute_result",
          "data": {
            "text/plain": [
              "                                         instruction  \\\n",
              "0  Evaluate the following phrase by transforming ...   \n",
              "1           Edit the following sentence for grammar.   \n",
              "2                   Convert 45 kilometers to meters.   \n",
              "3  Rewrite this sentence to start with 'Although'...   \n",
              "4              What are the first 10 square numbers?   \n",
              "\n",
              "                          input  \\\n",
              "0             freind --> friend   \n",
              "1  He go to the park every day.   \n",
              "2                                 \n",
              "3                                 \n",
              "4                                 \n",
              "\n",
              "                                              output  \n",
              "0  The spelling of the given phrase \"freind\" is i...  \n",
              "1                     He goes to the park every day.  \n",
              "2                     45 kilometers is 45000 meters.  \n",
              "3     Although it was raining, they went for a walk.  \n",
              "4              1, 4, 9, 16, 25, 36, 49, 64, 81, 100.  "
            ],
            "text/html": [
              "\n",
              "  <div id=\"df-9b734bef-fa7c-4486-9760-a68c5f1bdc60\" class=\"colab-df-container\">\n",
              "    <div>\n",
              "<style scoped>\n",
              "    .dataframe tbody tr th:only-of-type {\n",
              "        vertical-align: middle;\n",
              "    }\n",
              "\n",
              "    .dataframe tbody tr th {\n",
              "        vertical-align: top;\n",
              "    }\n",
              "\n",
              "    .dataframe thead th {\n",
              "        text-align: right;\n",
              "    }\n",
              "</style>\n",
              "<table border=\"1\" class=\"dataframe\">\n",
              "  <thead>\n",
              "    <tr style=\"text-align: right;\">\n",
              "      <th></th>\n",
              "      <th>instruction</th>\n",
              "      <th>input</th>\n",
              "      <th>output</th>\n",
              "    </tr>\n",
              "  </thead>\n",
              "  <tbody>\n",
              "    <tr>\n",
              "      <th>0</th>\n",
              "      <td>Evaluate the following phrase by transforming ...</td>\n",
              "      <td>freind --&gt; friend</td>\n",
              "      <td>The spelling of the given phrase \"freind\" is i...</td>\n",
              "    </tr>\n",
              "    <tr>\n",
              "      <th>1</th>\n",
              "      <td>Edit the following sentence for grammar.</td>\n",
              "      <td>He go to the park every day.</td>\n",
              "      <td>He goes to the park every day.</td>\n",
              "    </tr>\n",
              "    <tr>\n",
              "      <th>2</th>\n",
              "      <td>Convert 45 kilometers to meters.</td>\n",
              "      <td></td>\n",
              "      <td>45 kilometers is 45000 meters.</td>\n",
              "    </tr>\n",
              "    <tr>\n",
              "      <th>3</th>\n",
              "      <td>Rewrite this sentence to start with 'Although'...</td>\n",
              "      <td></td>\n",
              "      <td>Although it was raining, they went for a walk.</td>\n",
              "    </tr>\n",
              "    <tr>\n",
              "      <th>4</th>\n",
              "      <td>What are the first 10 square numbers?</td>\n",
              "      <td></td>\n",
              "      <td>1, 4, 9, 16, 25, 36, 49, 64, 81, 100.</td>\n",
              "    </tr>\n",
              "  </tbody>\n",
              "</table>\n",
              "</div>\n",
              "    <div class=\"colab-df-buttons\">\n",
              "\n",
              "  <div class=\"colab-df-container\">\n",
              "    <button class=\"colab-df-convert\" onclick=\"convertToInteractive('df-9b734bef-fa7c-4486-9760-a68c5f1bdc60')\"\n",
              "            title=\"Convert this dataframe to an interactive table.\"\n",
              "            style=\"display:none;\">\n",
              "\n",
              "  <svg xmlns=\"http://www.w3.org/2000/svg\" height=\"24px\" viewBox=\"0 -960 960 960\">\n",
              "    <path d=\"M120-120v-720h720v720H120Zm60-500h600v-160H180v160Zm220 220h160v-160H400v160Zm0 220h160v-160H400v160ZM180-400h160v-160H180v160Zm440 0h160v-160H620v160ZM180-180h160v-160H180v160Zm440 0h160v-160H620v160Z\"/>\n",
              "  </svg>\n",
              "    </button>\n",
              "\n",
              "  <style>\n",
              "    .colab-df-container {\n",
              "      display:flex;\n",
              "      gap: 12px;\n",
              "    }\n",
              "\n",
              "    .colab-df-convert {\n",
              "      background-color: #E8F0FE;\n",
              "      border: none;\n",
              "      border-radius: 50%;\n",
              "      cursor: pointer;\n",
              "      display: none;\n",
              "      fill: #1967D2;\n",
              "      height: 32px;\n",
              "      padding: 0 0 0 0;\n",
              "      width: 32px;\n",
              "    }\n",
              "\n",
              "    .colab-df-convert:hover {\n",
              "      background-color: #E2EBFA;\n",
              "      box-shadow: 0px 1px 2px rgba(60, 64, 67, 0.3), 0px 1px 3px 1px rgba(60, 64, 67, 0.15);\n",
              "      fill: #174EA6;\n",
              "    }\n",
              "\n",
              "    .colab-df-buttons div {\n",
              "      margin-bottom: 4px;\n",
              "    }\n",
              "\n",
              "    [theme=dark] .colab-df-convert {\n",
              "      background-color: #3B4455;\n",
              "      fill: #D2E3FC;\n",
              "    }\n",
              "\n",
              "    [theme=dark] .colab-df-convert:hover {\n",
              "      background-color: #434B5C;\n",
              "      box-shadow: 0px 1px 3px 1px rgba(0, 0, 0, 0.15);\n",
              "      filter: drop-shadow(0px 1px 2px rgba(0, 0, 0, 0.3));\n",
              "      fill: #FFFFFF;\n",
              "    }\n",
              "  </style>\n",
              "\n",
              "    <script>\n",
              "      const buttonEl =\n",
              "        document.querySelector('#df-9b734bef-fa7c-4486-9760-a68c5f1bdc60 button.colab-df-convert');\n",
              "      buttonEl.style.display =\n",
              "        google.colab.kernel.accessAllowed ? 'block' : 'none';\n",
              "\n",
              "      async function convertToInteractive(key) {\n",
              "        const element = document.querySelector('#df-9b734bef-fa7c-4486-9760-a68c5f1bdc60');\n",
              "        const dataTable =\n",
              "          await google.colab.kernel.invokeFunction('convertToInteractive',\n",
              "                                                    [key], {});\n",
              "        if (!dataTable) return;\n",
              "\n",
              "        const docLinkHtml = 'Like what you see? Visit the ' +\n",
              "          '<a target=\"_blank\" href=https://colab.research.google.com/notebooks/data_table.ipynb>data table notebook</a>'\n",
              "          + ' to learn more about interactive tables.';\n",
              "        element.innerHTML = '';\n",
              "        dataTable['output_type'] = 'display_data';\n",
              "        await google.colab.output.renderOutput(dataTable, element);\n",
              "        const docLink = document.createElement('div');\n",
              "        docLink.innerHTML = docLinkHtml;\n",
              "        element.appendChild(docLink);\n",
              "      }\n",
              "    </script>\n",
              "  </div>\n",
              "\n",
              "\n",
              "<div id=\"df-c4ba6a00-bc1a-434f-ad8f-23c8f678ecaa\">\n",
              "  <button class=\"colab-df-quickchart\" onclick=\"quickchart('df-c4ba6a00-bc1a-434f-ad8f-23c8f678ecaa')\"\n",
              "            title=\"Suggest charts\"\n",
              "            style=\"display:none;\">\n",
              "\n",
              "<svg xmlns=\"http://www.w3.org/2000/svg\" height=\"24px\"viewBox=\"0 0 24 24\"\n",
              "     width=\"24px\">\n",
              "    <g>\n",
              "        <path d=\"M19 3H5c-1.1 0-2 .9-2 2v14c0 1.1.9 2 2 2h14c1.1 0 2-.9 2-2V5c0-1.1-.9-2-2-2zM9 17H7v-7h2v7zm4 0h-2V7h2v10zm4 0h-2v-4h2v4z\"/>\n",
              "    </g>\n",
              "</svg>\n",
              "  </button>\n",
              "\n",
              "<style>\n",
              "  .colab-df-quickchart {\n",
              "      --bg-color: #E8F0FE;\n",
              "      --fill-color: #1967D2;\n",
              "      --hover-bg-color: #E2EBFA;\n",
              "      --hover-fill-color: #174EA6;\n",
              "      --disabled-fill-color: #AAA;\n",
              "      --disabled-bg-color: #DDD;\n",
              "  }\n",
              "\n",
              "  [theme=dark] .colab-df-quickchart {\n",
              "      --bg-color: #3B4455;\n",
              "      --fill-color: #D2E3FC;\n",
              "      --hover-bg-color: #434B5C;\n",
              "      --hover-fill-color: #FFFFFF;\n",
              "      --disabled-bg-color: #3B4455;\n",
              "      --disabled-fill-color: #666;\n",
              "  }\n",
              "\n",
              "  .colab-df-quickchart {\n",
              "    background-color: var(--bg-color);\n",
              "    border: none;\n",
              "    border-radius: 50%;\n",
              "    cursor: pointer;\n",
              "    display: none;\n",
              "    fill: var(--fill-color);\n",
              "    height: 32px;\n",
              "    padding: 0;\n",
              "    width: 32px;\n",
              "  }\n",
              "\n",
              "  .colab-df-quickchart:hover {\n",
              "    background-color: var(--hover-bg-color);\n",
              "    box-shadow: 0 1px 2px rgba(60, 64, 67, 0.3), 0 1px 3px 1px rgba(60, 64, 67, 0.15);\n",
              "    fill: var(--button-hover-fill-color);\n",
              "  }\n",
              "\n",
              "  .colab-df-quickchart-complete:disabled,\n",
              "  .colab-df-quickchart-complete:disabled:hover {\n",
              "    background-color: var(--disabled-bg-color);\n",
              "    fill: var(--disabled-fill-color);\n",
              "    box-shadow: none;\n",
              "  }\n",
              "\n",
              "  .colab-df-spinner {\n",
              "    border: 2px solid var(--fill-color);\n",
              "    border-color: transparent;\n",
              "    border-bottom-color: var(--fill-color);\n",
              "    animation:\n",
              "      spin 1s steps(1) infinite;\n",
              "  }\n",
              "\n",
              "  @keyframes spin {\n",
              "    0% {\n",
              "      border-color: transparent;\n",
              "      border-bottom-color: var(--fill-color);\n",
              "      border-left-color: var(--fill-color);\n",
              "    }\n",
              "    20% {\n",
              "      border-color: transparent;\n",
              "      border-left-color: var(--fill-color);\n",
              "      border-top-color: var(--fill-color);\n",
              "    }\n",
              "    30% {\n",
              "      border-color: transparent;\n",
              "      border-left-color: var(--fill-color);\n",
              "      border-top-color: var(--fill-color);\n",
              "      border-right-color: var(--fill-color);\n",
              "    }\n",
              "    40% {\n",
              "      border-color: transparent;\n",
              "      border-right-color: var(--fill-color);\n",
              "      border-top-color: var(--fill-color);\n",
              "    }\n",
              "    60% {\n",
              "      border-color: transparent;\n",
              "      border-right-color: var(--fill-color);\n",
              "    }\n",
              "    80% {\n",
              "      border-color: transparent;\n",
              "      border-right-color: var(--fill-color);\n",
              "      border-bottom-color: var(--fill-color);\n",
              "    }\n",
              "    90% {\n",
              "      border-color: transparent;\n",
              "      border-bottom-color: var(--fill-color);\n",
              "    }\n",
              "  }\n",
              "</style>\n",
              "\n",
              "  <script>\n",
              "    async function quickchart(key) {\n",
              "      const quickchartButtonEl =\n",
              "        document.querySelector('#' + key + ' button');\n",
              "      quickchartButtonEl.disabled = true;  // To prevent multiple clicks.\n",
              "      quickchartButtonEl.classList.add('colab-df-spinner');\n",
              "      try {\n",
              "        const charts = await google.colab.kernel.invokeFunction(\n",
              "            'suggestCharts', [key], {});\n",
              "      } catch (error) {\n",
              "        console.error('Error during call to suggestCharts:', error);\n",
              "      }\n",
              "      quickchartButtonEl.classList.remove('colab-df-spinner');\n",
              "      quickchartButtonEl.classList.add('colab-df-quickchart-complete');\n",
              "    }\n",
              "    (() => {\n",
              "      let quickchartButtonEl =\n",
              "        document.querySelector('#df-c4ba6a00-bc1a-434f-ad8f-23c8f678ecaa button');\n",
              "      quickchartButtonEl.style.display =\n",
              "        google.colab.kernel.accessAllowed ? 'block' : 'none';\n",
              "    })();\n",
              "  </script>\n",
              "</div>\n",
              "\n",
              "    </div>\n",
              "  </div>\n"
            ],
            "application/vnd.google.colaboratory.intrinsic+json": {
              "type": "dataframe",
              "variable_name": "data_df",
              "summary": "{\n  \"name\": \"data_df\",\n  \"rows\": 1100,\n  \"fields\": [\n    {\n      \"column\": \"instruction\",\n      \"properties\": {\n        \"dtype\": \"string\",\n        \"num_unique_values\": 954,\n        \"samples\": [\n          \"What is the capital of Russia?\",\n          \"Convert the temperature from Celsius to Kelvin.\",\n          \"What is the chemical formula for hydrogen peroxide?\"\n        ],\n        \"semantic_type\": \"\",\n        \"description\": \"\"\n      }\n    },\n    {\n      \"column\": \"input\",\n      \"properties\": {\n        \"dtype\": \"category\",\n        \"num_unique_values\": 315,\n        \"samples\": [\n          \"Close the door.\",\n          \"I hate this song!\",\n          \"Microwave, T-shirt, Bread\"\n        ],\n        \"semantic_type\": \"\",\n        \"description\": \"\"\n      }\n    },\n    {\n      \"column\": \"output\",\n      \"properties\": {\n        \"dtype\": \"string\",\n        \"num_unique_values\": 1100,\n        \"samples\": [\n          \"Me encantan los libros.\",\n          \"The perimeter of the hexagon is 30 cm.\",\n          \"Acid: Vinegar\\nBase: Baking soda\\nSalt: Table salt\"\n        ],\n        \"semantic_type\": \"\",\n        \"description\": \"\"\n      }\n    }\n  ]\n}"
            }
          },
          "metadata": {},
          "execution_count": 4
        }
      ]
    },
    {
      "cell_type": "code",
      "source": [
        "#CONVERTING INSTRUCTIONS INTO ALPACA FORMAT\n",
        "def format_input(entry):\n",
        "    instruction_text = (\n",
        "        f\"Below is an instruction that describes a task. \"\n",
        "        f\"Write a response that appropriately completes the request.\"\n",
        "        f\"\\n\\n### Instruction:\\n{entry['instruction']}\"\n",
        "    )\n",
        "\n",
        "    input_text = f\"\\n\\n### Input:\\n{entry['input']}\" if entry[\"input\"] else \"\"\n",
        "\n",
        "    return instruction_text + input_text"
      ],
      "metadata": {
        "id": "8hPz_yivqn9S"
      },
      "execution_count": 5,
      "outputs": []
    },
    {
      "cell_type": "code",
      "source": [
        "#testing\n",
        "model_input = format_input(data[50])\n",
        "desired_response = f\"\\n\\n### Response:\\n{data[50]['output']}\"\n",
        "\n",
        "print(model_input + desired_response)"
      ],
      "metadata": {
        "colab": {
          "base_uri": "https://localhost:8080/"
        },
        "id": "JtNEVtasq1kh",
        "outputId": "0a0de80e-a7e4-46c2-a790-b6fb70538bb2"
      },
      "execution_count": 6,
      "outputs": [
        {
          "output_type": "stream",
          "name": "stdout",
          "text": [
            "Below is an instruction that describes a task. Write a response that appropriately completes the request.\n",
            "\n",
            "### Instruction:\n",
            "Identify the correct spelling of the following word.\n",
            "\n",
            "### Input:\n",
            "Ocassion\n",
            "\n",
            "### Response:\n",
            "The correct spelling is 'Occasion.'\n"
          ]
        }
      ]
    },
    {
      "cell_type": "code",
      "source": [
        "#testing for when there is no input\n",
        "model_input = format_input(data[999])\n",
        "desired_response = f\"\\n\\n### Response:\\n{data[999]['output']}\"\n",
        "\n",
        "print(model_input + desired_response)"
      ],
      "metadata": {
        "colab": {
          "base_uri": "https://localhost:8080/"
        },
        "id": "GW_z7Quyq4Ml",
        "outputId": "ba082418-1d30-4501-8a3e-846f2fba8577"
      },
      "execution_count": 7,
      "outputs": [
        {
          "output_type": "stream",
          "name": "stdout",
          "text": [
            "Below is an instruction that describes a task. Write a response that appropriately completes the request.\n",
            "\n",
            "### Instruction:\n",
            "What is an antonym of 'complicated'?\n",
            "\n",
            "### Response:\n",
            "An antonym of 'complicated' is 'simple'.\n"
          ]
        }
      ]
    },
    {
      "cell_type": "code",
      "source": [
        "#splitting dataset into train-test-validation\n",
        "train_portion = int(len(data) * 0.85)  # 85% for training\n",
        "test_portion = int(len(data) * 0.1)    # 10% for testing\n",
        "val_portion = len(data) - train_portion - test_portion  # Remaining 5% for validation\n",
        "\n",
        "train_data = data[:train_portion]\n",
        "test_data = data[train_portion:train_portion + test_portion]\n",
        "val_data = data[train_portion + test_portion:]"
      ],
      "metadata": {
        "id": "FMoIpp56q_hQ"
      },
      "execution_count": 8,
      "outputs": []
    },
    {
      "cell_type": "code",
      "source": [
        "print(\"Training set length:\", len(train_data))\n",
        "print(\"Validation set length:\", len(val_data))\n",
        "print(\"Test set length:\", len(test_data))"
      ],
      "metadata": {
        "colab": {
          "base_uri": "https://localhost:8080/"
        },
        "id": "zZR3MisHrC-1",
        "outputId": "fac4dc30-d572-4f2c-926c-4044bd85ced6"
      },
      "execution_count": 9,
      "outputs": [
        {
          "output_type": "stream",
          "name": "stdout",
          "text": [
            "Training set length: 935\n",
            "Validation set length: 55\n",
            "Test set length: 110\n"
          ]
        }
      ]
    },
    {
      "cell_type": "markdown",
      "source": [
        "###organizing data into batches"
      ],
      "metadata": {
        "id": "x7Hl1G0SrMNG"
      }
    },
    {
      "cell_type": "markdown",
      "source": [
        "Organizing data into batches is a critical step in training machine learning models, including large language models (LLMs). It involves grouping a subset of the training data into small chunks (batches) rather than processing the entire dataset at once.\n",
        "\n",
        "A batch is a group of examples that are processed together during a single forward and backward pass in the model.\n",
        "\n",
        "The size of a batch, called the batch size, determines how many data samples are included in each group.\n",
        "\n",
        "Processing data in batches, rather than one example at a time (online learning) or the entire dataset at once (full-batch learning), has several benefits. In the Context of LLMs\n",
        "For large language models:\n",
        "\n",
        "Efficient Use of Resources:\n",
        "\n",
        "LLMs like GPT or BERT involve billions of parameters. Processing data in manageable batches is essential to fit the computations in GPU memory.\n",
        "\n",
        "Scalability:\n",
        "\n",
        "Training LLMs often requires massive datasets. Batching allows these datasets to be processed incrementally without overwhelming resources.\n",
        "\n",
        "Faster Training:\n",
        "\n",
        "With large batches, models can leverage parallelism and hardware acceleration to train on larger datasets more efficiently."
      ],
      "metadata": {
        "id": "BISSrtgpF4DD"
      }
    },
    {
      "cell_type": "code",
      "source": [
        "!pip install tiktoken\n",
        "import tiktoken\n",
        "tokenizer = tiktoken.get_encoding(\"gpt2\")\n",
        "\n",
        "print(tokenizer.encode(\"<|endoftext|>\", allowed_special={\"<|endoftext|>\"}))"
      ],
      "metadata": {
        "colab": {
          "base_uri": "https://localhost:8080/"
        },
        "id": "3p6HIL4mrV-l",
        "outputId": "cbdd84ef-3284-41f8-da05-5fef4a9c7fde"
      },
      "execution_count": 10,
      "outputs": [
        {
          "output_type": "stream",
          "name": "stdout",
          "text": [
            "Collecting tiktoken\n",
            "  Downloading tiktoken-0.8.0-cp310-cp310-manylinux_2_17_x86_64.manylinux2014_x86_64.whl.metadata (6.6 kB)\n",
            "Requirement already satisfied: regex>=2022.1.18 in /usr/local/lib/python3.10/dist-packages (from tiktoken) (2024.9.11)\n",
            "Requirement already satisfied: requests>=2.26.0 in /usr/local/lib/python3.10/dist-packages (from tiktoken) (2.32.3)\n",
            "Requirement already satisfied: charset-normalizer<4,>=2 in /usr/local/lib/python3.10/dist-packages (from requests>=2.26.0->tiktoken) (3.4.0)\n",
            "Requirement already satisfied: idna<4,>=2.5 in /usr/local/lib/python3.10/dist-packages (from requests>=2.26.0->tiktoken) (3.10)\n",
            "Requirement already satisfied: urllib3<3,>=1.21.1 in /usr/local/lib/python3.10/dist-packages (from requests>=2.26.0->tiktoken) (2.2.3)\n",
            "Requirement already satisfied: certifi>=2017.4.17 in /usr/local/lib/python3.10/dist-packages (from requests>=2.26.0->tiktoken) (2024.8.30)\n",
            "Downloading tiktoken-0.8.0-cp310-cp310-manylinux_2_17_x86_64.manylinux2014_x86_64.whl (1.2 MB)\n",
            "\u001b[?25l   \u001b[90m━━━━━━━━━━━━━━━━━━━━━━━━━━━━━━━━━━━━━━━━\u001b[0m \u001b[32m0.0/1.2 MB\u001b[0m \u001b[31m?\u001b[0m eta \u001b[36m-:--:--\u001b[0m\r\u001b[2K   \u001b[90m━━━━━━━━━━━━━━━━━━━━━━━━━━━━━━━━━━━━━━━━\u001b[0m \u001b[32m1.2/1.2 MB\u001b[0m \u001b[31m39.5 MB/s\u001b[0m eta \u001b[36m0:00:00\u001b[0m\n",
            "\u001b[?25hInstalling collected packages: tiktoken\n",
            "Successfully installed tiktoken-0.8.0\n",
            "[50256]\n"
          ]
        }
      ]
    },
    {
      "cell_type": "markdown",
      "source": [
        "Thr tiktoken performs byte pair encoding.\n",
        "\n",
        "Byte Pair Encoding (BPE) is a tokenization algorithm commonly used in natural language processing (NLP) to represent text efficiently, particularly for training large language models (LLMs). It strikes a balance between character-level and word-level tokenization, producing subword units that allow models to handle rare and out-of-vocabulary (OOV) words while maintaining computational efficiency."
      ],
      "metadata": {
        "id": "jW-9chD1GxR7"
      }
    },
    {
      "cell_type": "code",
      "source": [
        "import torch\n",
        "from torch.utils.data import Dataset\n",
        "\n",
        "\n",
        "class InstructionDataset(Dataset):\n",
        "    def __init__(self, data, tokenizer):\n",
        "        self.data = data\n",
        "\n",
        "        # Pre-tokenize texts\n",
        "        self.encoded_texts = []\n",
        "        for entry in data:\n",
        "            instruction_plus_input = format_input(entry)\n",
        "            response_text = f\"\\n\\n### Response:\\n{entry['output']}\"\n",
        "            full_text = instruction_plus_input + response_text\n",
        "            self.encoded_texts.append(\n",
        "                tokenizer.encode(full_text)\n",
        "            )\n",
        "\n",
        "    def __getitem__(self, index):\n",
        "        return self.encoded_texts[index]\n",
        "\n",
        "    def __len__(self):\n",
        "        return len(self.data)"
      ],
      "metadata": {
        "id": "QLvvQSiVrFRC"
      },
      "execution_count": 11,
      "outputs": []
    },
    {
      "cell_type": "markdown",
      "source": [
        "The below function is used to create input and target batches. for each batch of data passed to the function, it first pads the shorter sequences of the batch to make all sequences of same length. For each batch, it creates an input and output batch shifted by one position. Also, to prevent the model from learning from padding tokens, it replaces all padding tokens in the target sequences with a special ignore_index value, to ensure loss calculation focuses only on the meaningful tokens"
      ],
      "metadata": {
        "id": "ikUTKImcwlQZ"
      }
    },
    {
      "cell_type": "code",
      "source": [
        "#creating input and target tokens\n",
        "def custom_collate_fn(\n",
        "    batch,\n",
        "    pad_token_id=50256,\n",
        "    ignore_index=-100,\n",
        "    allowed_max_length=None,\n",
        "    device=\"cpu\"\n",
        "):\n",
        "    # Find the longest sequence in the batch\n",
        "    batch_max_length = max(len(item)+1 for item in batch)\n",
        "\n",
        "    # Pad and prepare inputs and targets\n",
        "    inputs_lst, targets_lst = [], []\n",
        "\n",
        "    for item in batch:\n",
        "        new_item = item.copy()\n",
        "        # Add an <|endoftext|> token\n",
        "        new_item += [pad_token_id]\n",
        "        # Pad sequences to max_length\n",
        "        padded = (\n",
        "            new_item + [pad_token_id] *\n",
        "            (batch_max_length - len(new_item))\n",
        "        )\n",
        "        inputs = torch.tensor(padded[:-1])  # Truncate the last token for inputs\n",
        "        targets = torch.tensor(padded[1:])  # Shift +1 to the right for targets\n",
        "\n",
        "        # New: Replace all but the first padding tokens in targets by ignore_index\n",
        "        mask = targets == pad_token_id\n",
        "        indices = torch.nonzero(mask).squeeze()\n",
        "        if indices.numel() > 1:\n",
        "            targets[indices[1:]] = ignore_index\n",
        "\n",
        "        # New: Optionally truncate to maximum sequence length\n",
        "        if allowed_max_length is not None:\n",
        "            inputs = inputs[:allowed_max_length]\n",
        "            targets = targets[:allowed_max_length]\n",
        "\n",
        "        inputs_lst.append(inputs)\n",
        "        targets_lst.append(targets)\n",
        "\n",
        "    # Convert list of inputs and targets to tensors and transfer to target device\n",
        "    inputs_tensor = torch.stack(inputs_lst).to(device)\n",
        "    targets_tensor = torch.stack(targets_lst).to(device)\n",
        "\n",
        "    return inputs_tensor, targets_tensor"
      ],
      "metadata": {
        "id": "QIGfcCs5rdke"
      },
      "execution_count": 12,
      "outputs": []
    },
    {
      "cell_type": "code",
      "source": [
        "#does everything\n",
        "inputs_1 = [0, 1, 2, 3, 4]\n",
        "inputs_2 = [5, 6]\n",
        "inputs_3 = [7, 8, 9]\n",
        "\n",
        "batch = (\n",
        "    inputs_1,\n",
        "    inputs_2,\n",
        "    inputs_3\n",
        ")\n",
        "\n",
        "inputs, targets = custom_collate_fn(batch)\n",
        "print(inputs)\n",
        "print(targets)\n",
        "\n",
        "#In this step, we assign a -100 placeholder value to all padding tokens.\n",
        "\n",
        "#This special value allows us to exclude these padding tokens from contributing to\n",
        "#the training loss calculation, ensuring that only meaningful data influences model learning.\n",
        "\n",
        "#-100 only added in training batch to exclude padding tokens from contributing to training loss calculation\n",
        "\n",
        "#Note that we retain one end-of-text token, ID 50256, in the target list.\n",
        "\n",
        "#This allows the LLM to learn when to generate an end-of-text token\n",
        "#in response to instructions, which we use as an indicator that the generated response is complete\n",
        "\n",
        "#The default\n",
        "#setting of the cross entropy function in PyTorch is cross_entropy(...,\n",
        "#ignore_index=-100).\n",
        "\n",
        "#This means that it ignores targets labeled with -100.\n"
      ],
      "metadata": {
        "colab": {
          "base_uri": "https://localhost:8080/"
        },
        "id": "fSsXsd0rrh6n",
        "outputId": "d57b1eac-32e5-44bc-92aa-2f7231b5e596"
      },
      "execution_count": 13,
      "outputs": [
        {
          "output_type": "stream",
          "name": "stdout",
          "text": [
            "tensor([[    0,     1,     2,     3,     4],\n",
            "        [    5,     6, 50256, 50256, 50256],\n",
            "        [    7,     8,     9, 50256, 50256]])\n",
            "tensor([[    1,     2,     3,     4, 50256],\n",
            "        [    6, 50256,  -100,  -100,  -100],\n",
            "        [    8,     9, 50256,  -100,  -100]])\n"
          ]
        }
      ]
    },
    {
      "cell_type": "markdown",
      "source": [
        "###Creating dataloader"
      ],
      "metadata": {
        "id": "66dK1orcspmG"
      }
    },
    {
      "cell_type": "code",
      "source": [
        "device = torch.device(\"cuda\" if torch.cuda.is_available() else \"cpu\")\n",
        "print(\"Device:\", device)"
      ],
      "metadata": {
        "colab": {
          "base_uri": "https://localhost:8080/"
        },
        "id": "aiVcOYyCrmOM",
        "outputId": "0996804a-3673-4ee5-e549-8ac5a9d42475"
      },
      "execution_count": 14,
      "outputs": [
        {
          "output_type": "stream",
          "name": "stdout",
          "text": [
            "Device: cuda\n"
          ]
        }
      ]
    },
    {
      "cell_type": "code",
      "source": [
        "#Next, to reuse the chosen device setting in custom_collate_fn when we plug it into the\n",
        "#PyTorch DataLoader class later in this section, we use the partial function from Python's\n",
        "#functools standard library to create a new version of the function with the device\n",
        "#argument pre-filled.\n",
        "\n",
        "#Additionally, we set the allowed_max_length to 1024, which truncates\n",
        "#the data to the maximum context length supported by the GPT-2 model we finetune later in\n",
        "#this chapter:\n",
        "\n",
        "from functools import partial\n",
        "customized_collate_fn = partial(custom_collate_fn, device=device, allowed_max_length=1024)"
      ],
      "metadata": {
        "id": "fAbomENwsyca"
      },
      "execution_count": 15,
      "outputs": []
    },
    {
      "cell_type": "code",
      "source": [
        "from torch.utils.data import DataLoader\n",
        "\n",
        "\n",
        "num_workers = 0\n",
        "batch_size = 8\n",
        "\n",
        "torch.manual_seed(123)\n",
        "\n",
        "train_dataset = InstructionDataset(train_data, tokenizer)\n",
        "train_loader = DataLoader(\n",
        "    train_dataset,\n",
        "    batch_size=batch_size,\n",
        "    collate_fn=customized_collate_fn,\n",
        "    shuffle=True,\n",
        "    drop_last=True,\n",
        "    num_workers=num_workers\n",
        ")\n",
        "\n",
        "val_dataset = InstructionDataset(val_data, tokenizer)\n",
        "val_loader = DataLoader(\n",
        "    val_dataset,\n",
        "    batch_size=batch_size,\n",
        "    collate_fn=customized_collate_fn,\n",
        "    shuffle=False,\n",
        "    drop_last=False,\n",
        "    num_workers=num_workers\n",
        ")\n",
        "\n",
        "test_dataset = InstructionDataset(test_data, tokenizer)\n",
        "test_loader = DataLoader(\n",
        "    test_dataset,\n",
        "    batch_size=batch_size,\n",
        "    collate_fn=customized_collate_fn,\n",
        "    shuffle=False,\n",
        "    drop_last=False,\n",
        "    num_workers=num_workers\n",
        ")"
      ],
      "metadata": {
        "id": "kASPkGcIs9Oc"
      },
      "execution_count": 16,
      "outputs": []
    },
    {
      "cell_type": "code",
      "source": [
        "print(\"Train loader:\")\n",
        "for inputs, targets in train_loader:\n",
        "    print(inputs.shape, targets.shape)"
      ],
      "metadata": {
        "colab": {
          "base_uri": "https://localhost:8080/"
        },
        "id": "aNISsrJps_EZ",
        "outputId": "3a0a5959-80cd-4c6d-af9c-443e07f418c8"
      },
      "execution_count": 17,
      "outputs": [
        {
          "output_type": "stream",
          "name": "stdout",
          "text": [
            "Train loader:\n",
            "torch.Size([8, 61]) torch.Size([8, 61])\n",
            "torch.Size([8, 76]) torch.Size([8, 76])\n",
            "torch.Size([8, 73]) torch.Size([8, 73])\n",
            "torch.Size([8, 68]) torch.Size([8, 68])\n",
            "torch.Size([8, 65]) torch.Size([8, 65])\n",
            "torch.Size([8, 72]) torch.Size([8, 72])\n",
            "torch.Size([8, 80]) torch.Size([8, 80])\n",
            "torch.Size([8, 67]) torch.Size([8, 67])\n",
            "torch.Size([8, 62]) torch.Size([8, 62])\n",
            "torch.Size([8, 75]) torch.Size([8, 75])\n",
            "torch.Size([8, 62]) torch.Size([8, 62])\n",
            "torch.Size([8, 68]) torch.Size([8, 68])\n",
            "torch.Size([8, 67]) torch.Size([8, 67])\n",
            "torch.Size([8, 77]) torch.Size([8, 77])\n",
            "torch.Size([8, 69]) torch.Size([8, 69])\n",
            "torch.Size([8, 79]) torch.Size([8, 79])\n",
            "torch.Size([8, 71]) torch.Size([8, 71])\n",
            "torch.Size([8, 66]) torch.Size([8, 66])\n",
            "torch.Size([8, 83]) torch.Size([8, 83])\n",
            "torch.Size([8, 68]) torch.Size([8, 68])\n",
            "torch.Size([8, 80]) torch.Size([8, 80])\n",
            "torch.Size([8, 71]) torch.Size([8, 71])\n",
            "torch.Size([8, 69]) torch.Size([8, 69])\n",
            "torch.Size([8, 65]) torch.Size([8, 65])\n",
            "torch.Size([8, 68]) torch.Size([8, 68])\n",
            "torch.Size([8, 60]) torch.Size([8, 60])\n",
            "torch.Size([8, 59]) torch.Size([8, 59])\n",
            "torch.Size([8, 69]) torch.Size([8, 69])\n",
            "torch.Size([8, 63]) torch.Size([8, 63])\n",
            "torch.Size([8, 65]) torch.Size([8, 65])\n",
            "torch.Size([8, 76]) torch.Size([8, 76])\n",
            "torch.Size([8, 66]) torch.Size([8, 66])\n",
            "torch.Size([8, 71]) torch.Size([8, 71])\n",
            "torch.Size([8, 91]) torch.Size([8, 91])\n",
            "torch.Size([8, 65]) torch.Size([8, 65])\n",
            "torch.Size([8, 64]) torch.Size([8, 64])\n",
            "torch.Size([8, 67]) torch.Size([8, 67])\n",
            "torch.Size([8, 66]) torch.Size([8, 66])\n",
            "torch.Size([8, 64]) torch.Size([8, 64])\n",
            "torch.Size([8, 65]) torch.Size([8, 65])\n",
            "torch.Size([8, 75]) torch.Size([8, 75])\n",
            "torch.Size([8, 89]) torch.Size([8, 89])\n",
            "torch.Size([8, 59]) torch.Size([8, 59])\n",
            "torch.Size([8, 88]) torch.Size([8, 88])\n",
            "torch.Size([8, 83]) torch.Size([8, 83])\n",
            "torch.Size([8, 83]) torch.Size([8, 83])\n",
            "torch.Size([8, 70]) torch.Size([8, 70])\n",
            "torch.Size([8, 65]) torch.Size([8, 65])\n",
            "torch.Size([8, 74]) torch.Size([8, 74])\n",
            "torch.Size([8, 76]) torch.Size([8, 76])\n",
            "torch.Size([8, 67]) torch.Size([8, 67])\n",
            "torch.Size([8, 75]) torch.Size([8, 75])\n",
            "torch.Size([8, 83]) torch.Size([8, 83])\n",
            "torch.Size([8, 69]) torch.Size([8, 69])\n",
            "torch.Size([8, 67]) torch.Size([8, 67])\n",
            "torch.Size([8, 60]) torch.Size([8, 60])\n",
            "torch.Size([8, 60]) torch.Size([8, 60])\n",
            "torch.Size([8, 66]) torch.Size([8, 66])\n",
            "torch.Size([8, 80]) torch.Size([8, 80])\n",
            "torch.Size([8, 71]) torch.Size([8, 71])\n",
            "torch.Size([8, 61]) torch.Size([8, 61])\n",
            "torch.Size([8, 58]) torch.Size([8, 58])\n",
            "torch.Size([8, 71]) torch.Size([8, 71])\n",
            "torch.Size([8, 67]) torch.Size([8, 67])\n",
            "torch.Size([8, 68]) torch.Size([8, 68])\n",
            "torch.Size([8, 63]) torch.Size([8, 63])\n",
            "torch.Size([8, 87]) torch.Size([8, 87])\n",
            "torch.Size([8, 68]) torch.Size([8, 68])\n",
            "torch.Size([8, 64]) torch.Size([8, 64])\n",
            "torch.Size([8, 68]) torch.Size([8, 68])\n",
            "torch.Size([8, 71]) torch.Size([8, 71])\n",
            "torch.Size([8, 68]) torch.Size([8, 68])\n",
            "torch.Size([8, 71]) torch.Size([8, 71])\n",
            "torch.Size([8, 61]) torch.Size([8, 61])\n",
            "torch.Size([8, 65]) torch.Size([8, 65])\n",
            "torch.Size([8, 67]) torch.Size([8, 67])\n",
            "torch.Size([8, 65]) torch.Size([8, 65])\n",
            "torch.Size([8, 64]) torch.Size([8, 64])\n",
            "torch.Size([8, 60]) torch.Size([8, 60])\n",
            "torch.Size([8, 72]) torch.Size([8, 72])\n",
            "torch.Size([8, 64]) torch.Size([8, 64])\n",
            "torch.Size([8, 70]) torch.Size([8, 70])\n",
            "torch.Size([8, 57]) torch.Size([8, 57])\n",
            "torch.Size([8, 72]) torch.Size([8, 72])\n",
            "torch.Size([8, 64]) torch.Size([8, 64])\n",
            "torch.Size([8, 68]) torch.Size([8, 68])\n",
            "torch.Size([8, 62]) torch.Size([8, 62])\n",
            "torch.Size([8, 74]) torch.Size([8, 74])\n",
            "torch.Size([8, 80]) torch.Size([8, 80])\n",
            "torch.Size([8, 68]) torch.Size([8, 68])\n",
            "torch.Size([8, 70]) torch.Size([8, 70])\n",
            "torch.Size([8, 91]) torch.Size([8, 91])\n",
            "torch.Size([8, 61]) torch.Size([8, 61])\n",
            "torch.Size([8, 66]) torch.Size([8, 66])\n",
            "torch.Size([8, 80]) torch.Size([8, 80])\n",
            "torch.Size([8, 81]) torch.Size([8, 81])\n",
            "torch.Size([8, 74]) torch.Size([8, 74])\n",
            "torch.Size([8, 82]) torch.Size([8, 82])\n",
            "torch.Size([8, 63]) torch.Size([8, 63])\n",
            "torch.Size([8, 83]) torch.Size([8, 83])\n",
            "torch.Size([8, 68]) torch.Size([8, 68])\n",
            "torch.Size([8, 67]) torch.Size([8, 67])\n",
            "torch.Size([8, 77]) torch.Size([8, 77])\n",
            "torch.Size([8, 91]) torch.Size([8, 91])\n",
            "torch.Size([8, 64]) torch.Size([8, 64])\n",
            "torch.Size([8, 61]) torch.Size([8, 61])\n",
            "torch.Size([8, 75]) torch.Size([8, 75])\n",
            "torch.Size([8, 64]) torch.Size([8, 64])\n",
            "torch.Size([8, 66]) torch.Size([8, 66])\n",
            "torch.Size([8, 78]) torch.Size([8, 78])\n",
            "torch.Size([8, 66]) torch.Size([8, 66])\n",
            "torch.Size([8, 64]) torch.Size([8, 64])\n",
            "torch.Size([8, 83]) torch.Size([8, 83])\n",
            "torch.Size([8, 66]) torch.Size([8, 66])\n",
            "torch.Size([8, 74]) torch.Size([8, 74])\n",
            "torch.Size([8, 69]) torch.Size([8, 69])\n"
          ]
        }
      ]
    },
    {
      "cell_type": "markdown",
      "source": [
        "###Coding the GPT-2 LLM architecture"
      ],
      "metadata": {
        "id": "vya_GDGS1Ief"
      }
    },
    {
      "cell_type": "code",
      "source": [
        "import torch.nn as nn"
      ],
      "metadata": {
        "id": "r_QYlqeh1QX-"
      },
      "execution_count": 18,
      "outputs": []
    },
    {
      "cell_type": "markdown",
      "source": [
        "![image.png](data:image/png;base64,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)\n",
        "\n",
        "\n"
      ],
      "metadata": {
        "id": "XbeMR8wNx_9W"
      }
    },
    {
      "cell_type": "code",
      "source": [
        "class MultiHeadAttention(nn.Module):\n",
        "    def __init__(self, d_in, d_out, context_length, dropout, num_heads, qkv_bias=False):\n",
        "        super().__init__()\n",
        "        assert (d_out % num_heads == 0), \\\n",
        "            \"d_out must be divisible by num_heads\"\n",
        "\n",
        "        self.d_out = d_out\n",
        "        self.num_heads = num_heads\n",
        "        self.head_dim = d_out // num_heads # Reduce the projection dim to match desired output dim\n",
        "\n",
        "        self.W_query = nn.Linear(d_in, d_out, bias=qkv_bias)\n",
        "        self.W_key = nn.Linear(d_in, d_out, bias=qkv_bias)\n",
        "        self.W_value = nn.Linear(d_in, d_out, bias=qkv_bias)\n",
        "        self.out_proj = nn.Linear(d_out, d_out)  # Linear layer to combine head outputs\n",
        "        self.dropout = nn.Dropout(dropout)\n",
        "        self.register_buffer(\n",
        "            \"mask\",\n",
        "            torch.triu(torch.ones(context_length, context_length),\n",
        "                       diagonal=1)\n",
        "        )\n",
        "\n",
        "    def forward(self, x):\n",
        "        b, num_tokens, d_in = x.shape\n",
        "\n",
        "        keys = self.W_key(x) # Shape: (b, num_tokens, d_out)\n",
        "        queries = self.W_query(x)\n",
        "        values = self.W_value(x)\n",
        "\n",
        "        # We implicitly split the matrix by adding a `num_heads` dimension\n",
        "        # Unroll last dim: (b, num_tokens, d_out) -> (b, num_tokens, num_heads, head_dim)\n",
        "        keys = keys.view(b, num_tokens, self.num_heads, self.head_dim)\n",
        "        values = values.view(b, num_tokens, self.num_heads, self.head_dim)\n",
        "        queries = queries.view(b, num_tokens, self.num_heads, self.head_dim)\n",
        "\n",
        "        # Transpose: (b, num_tokens, num_heads, head_dim) -> (b, num_heads, num_tokens, head_dim)\n",
        "        keys = keys.transpose(1, 2)\n",
        "        queries = queries.transpose(1, 2)\n",
        "        values = values.transpose(1, 2)\n",
        "\n",
        "        # Compute scaled dot-product attention (aka self-attention) with a causal mask\n",
        "        attn_scores = queries @ keys.transpose(2, 3)  # Dot product for each head\n",
        "\n",
        "        # Original mask truncated to the number of tokens and converted to boolean\n",
        "        mask_bool = self.mask.bool()[:num_tokens, :num_tokens]\n",
        "\n",
        "        # Use the mask to fill attention scores\n",
        "        attn_scores.masked_fill_(mask_bool, -torch.inf)\n",
        "\n",
        "        attn_weights = torch.softmax(attn_scores / keys.shape[-1]**0.5, dim=-1)\n",
        "        attn_weights = self.dropout(attn_weights)\n",
        "\n",
        "        # Shape: (b, num_tokens, num_heads, head_dim)\n",
        "        context_vec = (attn_weights @ values).transpose(1, 2)\n",
        "\n",
        "        # Combine heads, where self.d_out = self.num_heads * self.head_dim\n",
        "        context_vec = context_vec.contiguous().view(b, num_tokens, self.d_out)\n",
        "        context_vec = self.out_proj(context_vec) # optional projection\n",
        "\n",
        "        return context_vec\n",
        "\n",
        "#encapsulating above into a function class\n",
        "class LayerNorm(nn.Module):\n",
        "    def __init__(self, emb_dim):\n",
        "        super().__init__()\n",
        "        self.eps = 1e-5\n",
        "        self.scale = nn.Parameter(torch.ones(emb_dim)) #these 2 are trainable params that are calculated suring model training just for fine tuning purposes\n",
        "        self.shift = nn.Parameter(torch.zeros(emb_dim))\n",
        "\n",
        "    def forward(self, x):\n",
        "        mean = x.mean(dim=-1, keepdim=True)\n",
        "        var = x.var(dim=-1, keepdim=True, unbiased=False) #unbiased = F to prevent use of bessel calculation of variance (uses n-1 instead of n to calculate var)\n",
        "        norm_x = (x - mean) / torch.sqrt(var + self.eps) #to prevent division by 0, small epsilon is added\n",
        "        return self.scale * norm_x + self.shift\n",
        "\n",
        "#code for GELU A.F\n",
        "class GELU(nn.Module):\n",
        "    def __init__(self):\n",
        "        super().__init__()\n",
        "\n",
        "    def forward(self, x):\n",
        "        return 0.5 * x * (1 + torch.tanh(\n",
        "            torch.sqrt(torch.tensor(2.0 / torch.pi)) *\n",
        "            (x + 0.044715 * torch.pow(x, 3))\n",
        "        ))\n",
        "\n",
        "#implementing the feed forward NN\n",
        "class FeedForward(nn.Module):\n",
        "    def __init__(self, cfg):\n",
        "        super().__init__()\n",
        "        self.layers = nn.Sequential(\n",
        "            nn.Linear(cfg[\"emb_dim\"], 4 * cfg[\"emb_dim\"]),\n",
        "            GELU(),\n",
        "            nn.Linear(4 * cfg[\"emb_dim\"], cfg[\"emb_dim\"]),\n",
        "        )\n",
        "\n",
        "    def forward(self, x):\n",
        "        return self.layers(x)\n",
        "\n",
        "\n",
        "\n",
        "class TransformerBlock(nn.Module):\n",
        "    def __init__(self, cfg):\n",
        "        super().__init__()\n",
        "        self.att = MultiHeadAttention(\n",
        "            d_in=cfg[\"emb_dim\"],\n",
        "            d_out=cfg[\"emb_dim\"],\n",
        "            context_length=cfg[\"context_length\"],\n",
        "            num_heads=cfg[\"n_heads\"],\n",
        "            dropout=cfg[\"drop_rate\"],\n",
        "            qkv_bias=cfg[\"qkv_bias\"])\n",
        "        self.ff = FeedForward(cfg)\n",
        "        self.norm1 = LayerNorm(cfg[\"emb_dim\"])\n",
        "        self.norm2 = LayerNorm(cfg[\"emb_dim\"])\n",
        "        self.drop_shortcut = nn.Dropout(cfg[\"drop_rate\"])\n",
        "\n",
        "    def forward(self, x):\n",
        "        # Shortcut connection for attention block\n",
        "        shortcut = x\n",
        "        x = self.norm1(x)\n",
        "        x = self.att(x)  # Shape [batch_size, num_tokens, emb_size]\n",
        "        x = self.drop_shortcut(x) #adding dropout\n",
        "        x = x + shortcut  # Add the original input back (shortcut connections)\n",
        "\n",
        "        # Shortcut connection for feed forward block\n",
        "        shortcut = x\n",
        "        x = self.norm2(x)\n",
        "        x = self.ff(x)\n",
        "        x = self.drop_shortcut(x)\n",
        "        x = x + shortcut  # Add the original input back\n",
        "\n",
        "        return x\n",
        "\n",
        "class GPTModel(nn.Module):\n",
        "    def __init__(self, cfg):\n",
        "        super().__init__()\n",
        "        self.tok_emb = nn.Embedding(cfg[\"vocab_size\"], cfg[\"emb_dim\"])\n",
        "        self.pos_emb = nn.Embedding(cfg[\"context_length\"], cfg[\"emb_dim\"])\n",
        "        self.drop_emb = nn.Dropout(cfg[\"drop_rate\"])\n",
        "\n",
        "        self.trf_blocks = nn.Sequential(\n",
        "            *[TransformerBlock(cfg) for _ in range(cfg[\"n_layers\"])])\n",
        "\n",
        "        self.final_norm = LayerNorm(cfg[\"emb_dim\"])\n",
        "        self.out_head = nn.Linear(    #this is the final o/p layer that converts (batch size x input tokens x embedding dim) to (batch size x input tokens x vocab size)(vocab size to get probability of each word in vocab to be the next token in input seq)\n",
        "            cfg[\"emb_dim\"], cfg[\"vocab_size\"], bias=False\n",
        "        )\n",
        "\n",
        "    def forward(self, in_idx):\n",
        "        batch_size, seq_len = in_idx.shape\n",
        "        tok_embeds = self.tok_emb(in_idx)\n",
        "        pos_embeds = self.pos_emb(torch.arange(seq_len, device=in_idx.device))\n",
        "        x = tok_embeds + pos_embeds  # Shape [batch_size, num_tokens, emb_size]\n",
        "        x = self.drop_emb(x)\n",
        "        x = self.trf_blocks(x)\n",
        "        x = self.final_norm(x)\n",
        "        logits = self.out_head(x)\n",
        "        return logits"
      ],
      "metadata": {
        "id": "jzgZ5PpV1NUU"
      },
      "execution_count": 19,
      "outputs": []
    },
    {
      "cell_type": "markdown",
      "source": [
        "###Loading the LLM with the publicly available GPT-2 trained weights\n"
      ],
      "metadata": {
        "id": "tyQ4JsJ9tY2W"
      }
    },
    {
      "cell_type": "code",
      "source": [
        "import tensorflow as tf\n",
        "import tqdm\n",
        "\n",
        "print(tf.__version__)\n",
        "print(tqdm.__version__)"
      ],
      "metadata": {
        "colab": {
          "base_uri": "https://localhost:8080/"
        },
        "id": "xbudSvZStBDw",
        "outputId": "c6e4fb0f-a3ee-4d56-a3ff-18baafcd5b86"
      },
      "execution_count": 20,
      "outputs": [
        {
          "output_type": "stream",
          "name": "stdout",
          "text": [
            "2.17.1\n",
            "4.66.6\n"
          ]
        }
      ]
    },
    {
      "cell_type": "markdown",
      "source": [
        "The following code is used to extract the publicly available parameters of the GPT-2 model from openAI's public storage."
      ],
      "metadata": {
        "id": "Rr3clWjd0D4v"
      }
    },
    {
      "cell_type": "code",
      "source": [
        "\n",
        "import os\n",
        "import requests  # Make sure requests is installed\n",
        "import json\n",
        "import numpy as np\n",
        "import tensorflow as tf\n",
        "from tqdm import tqdm\n",
        "\n",
        "def download_and_load_gpt2(model_size, models_dir):\n",
        "    # Validate model size\n",
        "    allowed_sizes = (\"124M\", \"355M\", \"774M\", \"1558M\")\n",
        "    if model_size not in allowed_sizes:\n",
        "        raise ValueError(f\"Model size not in {allowed_sizes}\")\n",
        "\n",
        "    # Define paths\n",
        "    model_dir = os.path.join(models_dir, model_size)\n",
        "    base_url = \"https://openaipublic.blob.core.windows.net/gpt-2/models\"\n",
        "    filenames = [\n",
        "        \"checkpoint\", \"encoder.json\", \"hparams.json\",\n",
        "        \"model.ckpt.data-00000-of-00001\", \"model.ckpt.index\",\n",
        "        \"model.ckpt.meta\", \"vocab.bpe\"\n",
        "    ]\n",
        "\n",
        "    # Download files\n",
        "    os.makedirs(model_dir, exist_ok=True)\n",
        "    for filename in filenames:\n",
        "        file_url = os.path.join(base_url, model_size, filename)\n",
        "        file_path = os.path.join(model_dir, filename)\n",
        "        download_file(file_url, file_path)\n",
        "\n",
        "    ## We have reached here until now ---> we have downloaded the files on our local machine.\n",
        "\n",
        "    # Load settings and params\n",
        "    tf_ckpt_path = tf.train.latest_checkpoint(model_dir)\n",
        "    settings = json.load(open(os.path.join(model_dir, \"hparams.json\")))\n",
        "    params = load_gpt2_params_from_tf_ckpt(tf_ckpt_path, settings)\n",
        "\n",
        "    return settings, params\n",
        "\n",
        "def download_file(url, destination):\n",
        "    try:\n",
        "        # Send a GET request to download the file, disabling SSL verification\n",
        "        response = requests.get(url, stream=True, verify=False)\n",
        "\n",
        "        # Get the total file size from headers, defaulting to 0 if not present\n",
        "        file_size = int(response.headers.get(\"content-length\", 0))\n",
        "\n",
        "        # Check if file exists and has the same size\n",
        "        if os.path.exists(destination):\n",
        "            file_size_local = os.path.getsize(destination)\n",
        "            if file_size == file_size_local:\n",
        "                print(f\"File already exists and is up-to-date: {destination}\")\n",
        "                return\n",
        "\n",
        "        # Define the block size for reading the file\n",
        "        block_size = 1024  # 1 Kilobyte\n",
        "\n",
        "        # Initialize the progress bar with total file size\n",
        "        progress_bar_description = url.split(\"/\")[-1]  # Extract filename from URL\n",
        "        with tqdm(total=file_size, unit=\"iB\", unit_scale=True, desc=progress_bar_description) as progress_bar:\n",
        "            # Open the destination file in binary write mode\n",
        "            with open(destination, \"wb\") as file:\n",
        "                # Iterate over the file data in chunks\n",
        "                for chunk in response.iter_content(block_size):\n",
        "                    progress_bar.update(len(chunk))  # Update progress bar\n",
        "                    file.write(chunk)  # Write the chunk to the file\n",
        "\n",
        "    except requests.exceptions.RequestException as e:\n",
        "        print(f\"Error downloading the file: {e}\")\n",
        "        print(f\"Please check the URL: {url}\")\n",
        "\n",
        "def load_gpt2_params_from_tf_ckpt(ckpt_path, settings):\n",
        "    # Initialize parameters dictionary with empty blocks for each layer\n",
        "    params = {\"blocks\": [{} for _ in range(settings[\"n_layer\"])]}\n",
        "\n",
        "    # Iterate over each variable in the checkpoint\n",
        "    for name, _ in tf.train.list_variables(ckpt_path):\n",
        "        # Load the variable and remove singleton dimensions\n",
        "        variable_array = np.squeeze(tf.train.load_variable(ckpt_path, name))\n",
        "\n",
        "        # Process the variable name to extract relevant parts\n",
        "        variable_name_parts = name.split(\"/\")[1:]  # Skip the 'model/' prefix\n",
        "\n",
        "        # Identify the target dictionary for the variable\n",
        "        target_dict = params\n",
        "        if variable_name_parts[0].startswith(\"h\"):\n",
        "            layer_number = int(variable_name_parts[0][1:])\n",
        "            target_dict = params[\"blocks\"][layer_number]\n",
        "\n",
        "        # Recursively access or create nested dictionaries\n",
        "        for key in variable_name_parts[1:-1]:\n",
        "            target_dict = target_dict.setdefault(key, {})\n",
        "\n",
        "        # Assign the variable array to the last key\n",
        "        last_key = variable_name_parts[-1]\n",
        "        target_dict[last_key] = variable_array\n",
        "\n",
        "    return params\n"
      ],
      "metadata": {
        "id": "T_x1SrC2tdTh"
      },
      "execution_count": 21,
      "outputs": []
    },
    {
      "cell_type": "code",
      "source": [
        "#sanity function used to assign the weights from openAI to our created model\n",
        "def assign(left, right):\n",
        "    if left.shape != right.shape:\n",
        "        raise ValueError(f\"Shape mismatch. Left: {left.shape}, Right: {right.shape}\")\n",
        "    return torch.nn.Parameter(torch.tensor(right))"
      ],
      "metadata": {
        "id": "ElDSk2aJ3cO6"
      },
      "execution_count": 22,
      "outputs": []
    },
    {
      "cell_type": "code",
      "source": [
        "#this function is used to load all the extracted weights of GPT-2 model from openAI to their corresponding positions in our very own model\n",
        "\n",
        "import numpy as np\n",
        "\n",
        "def load_weights_into_gpt(gpt, params):\n",
        "    gpt.pos_emb.weight = assign(gpt.pos_emb.weight, params['wpe'])\n",
        "    gpt.tok_emb.weight = assign(gpt.tok_emb.weight, params['wte'])\n",
        "\n",
        "    for b in range(len(params[\"blocks\"])):\n",
        "        q_w, k_w, v_w = np.split(\n",
        "            (params[\"blocks\"][b][\"attn\"][\"c_attn\"])[\"w\"], 3, axis=-1)\n",
        "        gpt.trf_blocks[b].att.W_query.weight = assign(\n",
        "            gpt.trf_blocks[b].att.W_query.weight, q_w.T)\n",
        "        gpt.trf_blocks[b].att.W_key.weight = assign(\n",
        "            gpt.trf_blocks[b].att.W_key.weight, k_w.T)\n",
        "        gpt.trf_blocks[b].att.W_value.weight = assign(\n",
        "            gpt.trf_blocks[b].att.W_value.weight, v_w.T)\n",
        "\n",
        "        q_b, k_b, v_b = np.split(\n",
        "            (params[\"blocks\"][b][\"attn\"][\"c_attn\"])[\"b\"], 3, axis=-1)\n",
        "        gpt.trf_blocks[b].att.W_query.bias = assign(\n",
        "            gpt.trf_blocks[b].att.W_query.bias, q_b)\n",
        "        gpt.trf_blocks[b].att.W_key.bias = assign(\n",
        "            gpt.trf_blocks[b].att.W_key.bias, k_b)\n",
        "        gpt.trf_blocks[b].att.W_value.bias = assign(\n",
        "            gpt.trf_blocks[b].att.W_value.bias, v_b)\n",
        "\n",
        "        gpt.trf_blocks[b].att.out_proj.weight = assign(\n",
        "            gpt.trf_blocks[b].att.out_proj.weight,\n",
        "            params[\"blocks\"][b][\"attn\"][\"c_proj\"][\"w\"].T)\n",
        "        gpt.trf_blocks[b].att.out_proj.bias = assign(\n",
        "            gpt.trf_blocks[b].att.out_proj.bias,\n",
        "            params[\"blocks\"][b][\"attn\"][\"c_proj\"][\"b\"])\n",
        "\n",
        "        gpt.trf_blocks[b].ff.layers[0].weight = assign(\n",
        "            gpt.trf_blocks[b].ff.layers[0].weight,\n",
        "            params[\"blocks\"][b][\"mlp\"][\"c_fc\"][\"w\"].T)\n",
        "        gpt.trf_blocks[b].ff.layers[0].bias = assign(\n",
        "            gpt.trf_blocks[b].ff.layers[0].bias,\n",
        "            params[\"blocks\"][b][\"mlp\"][\"c_fc\"][\"b\"])\n",
        "        gpt.trf_blocks[b].ff.layers[2].weight = assign(\n",
        "            gpt.trf_blocks[b].ff.layers[2].weight,\n",
        "            params[\"blocks\"][b][\"mlp\"][\"c_proj\"][\"w\"].T)\n",
        "        gpt.trf_blocks[b].ff.layers[2].bias = assign(\n",
        "            gpt.trf_blocks[b].ff.layers[2].bias,\n",
        "            params[\"blocks\"][b][\"mlp\"][\"c_proj\"][\"b\"])\n",
        "\n",
        "        gpt.trf_blocks[b].norm1.scale = assign(\n",
        "            gpt.trf_blocks[b].norm1.scale,\n",
        "            params[\"blocks\"][b][\"ln_1\"][\"g\"])\n",
        "        gpt.trf_blocks[b].norm1.shift = assign(\n",
        "            gpt.trf_blocks[b].norm1.shift,\n",
        "            params[\"blocks\"][b][\"ln_1\"][\"b\"])\n",
        "        gpt.trf_blocks[b].norm2.scale = assign(\n",
        "            gpt.trf_blocks[b].norm2.scale,\n",
        "            params[\"blocks\"][b][\"ln_2\"][\"g\"])\n",
        "        gpt.trf_blocks[b].norm2.shift = assign(\n",
        "            gpt.trf_blocks[b].norm2.shift,\n",
        "            params[\"blocks\"][b][\"ln_2\"][\"b\"])\n",
        "\n",
        "    gpt.final_norm.scale = assign(gpt.final_norm.scale, params[\"g\"])\n",
        "    gpt.final_norm.shift = assign(gpt.final_norm.shift, params[\"b\"])\n",
        "    gpt.out_head.weight = assign(gpt.out_head.weight, params[\"wte\"])\n",
        "\n"
      ],
      "metadata": {
        "id": "uPH6c_e43Xvh"
      },
      "execution_count": 23,
      "outputs": []
    },
    {
      "cell_type": "markdown",
      "source": [
        "Our model will be the GPT-2 medium model, which consists of 355 million parameters. Now we will load the parameters from openAI into our model"
      ],
      "metadata": {
        "id": "bWpBGIWg038O"
      }
    },
    {
      "cell_type": "code",
      "source": [
        "\n",
        "BASE_CONFIG = {\n",
        "    \"vocab_size\": 50257,     # Vocabulary size\n",
        "    \"context_length\": 1024,  # Context length\n",
        "    \"drop_rate\": 0.0,        # Dropout rate\n",
        "    \"qkv_bias\": True         # Query-key-value bias\n",
        "}\n",
        "\n",
        "model_configs = {\n",
        "    \"gpt2-small (124M)\": {\"emb_dim\": 768, \"n_layers\": 12, \"n_heads\": 12},\n",
        "    \"gpt2-medium (355M)\": {\"emb_dim\": 1024, \"n_layers\": 24, \"n_heads\": 16},\n",
        "    \"gpt2-large (774M)\": {\"emb_dim\": 1280, \"n_layers\": 36, \"n_heads\": 20},\n",
        "    \"gpt2-xl (1558M)\": {\"emb_dim\": 1600, \"n_layers\": 48, \"n_heads\": 25},\n",
        "}\n",
        "\n",
        "CHOOSE_MODEL = \"gpt2-medium (355M)\"\n",
        "\n",
        "BASE_CONFIG.update(model_configs[CHOOSE_MODEL])\n",
        "\n",
        "model_size = CHOOSE_MODEL.split(\" \")[-1].lstrip(\"(\").rstrip(\")\")\n",
        "settings, params = download_and_load_gpt2(\n",
        "    model_size=model_size,\n",
        "    models_dir=\"gpt2\"\n",
        ")\n",
        "\n",
        "model = GPTModel(BASE_CONFIG)\n",
        "load_weights_into_gpt(model, params)\n",
        "model.eval();"
      ],
      "metadata": {
        "colab": {
          "base_uri": "https://localhost:8080/"
        },
        "id": "VZwxPhw0tlaS",
        "outputId": "15aa102b-b42b-447d-a53b-d933059d3129"
      },
      "execution_count": 24,
      "outputs": [
        {
          "output_type": "stream",
          "name": "stderr",
          "text": [
            "/usr/local/lib/python3.10/dist-packages/urllib3/connectionpool.py:1099: InsecureRequestWarning: Unverified HTTPS request is being made to host 'openaipublic.blob.core.windows.net'. Adding certificate verification is strongly advised. See: https://urllib3.readthedocs.io/en/latest/advanced-usage.html#tls-warnings\n",
            "  warnings.warn(\n",
            "checkpoint: 100%|██████████| 77.0/77.0 [00:00<00:00, 206kiB/s]\n",
            "/usr/local/lib/python3.10/dist-packages/urllib3/connectionpool.py:1099: InsecureRequestWarning: Unverified HTTPS request is being made to host 'openaipublic.blob.core.windows.net'. Adding certificate verification is strongly advised. See: https://urllib3.readthedocs.io/en/latest/advanced-usage.html#tls-warnings\n",
            "  warnings.warn(\n",
            "encoder.json: 100%|██████████| 1.04M/1.04M [00:01<00:00, 643kiB/s]\n",
            "/usr/local/lib/python3.10/dist-packages/urllib3/connectionpool.py:1099: InsecureRequestWarning: Unverified HTTPS request is being made to host 'openaipublic.blob.core.windows.net'. Adding certificate verification is strongly advised. See: https://urllib3.readthedocs.io/en/latest/advanced-usage.html#tls-warnings\n",
            "  warnings.warn(\n",
            "hparams.json: 100%|██████████| 91.0/91.0 [00:00<00:00, 53.8kiB/s]\n",
            "/usr/local/lib/python3.10/dist-packages/urllib3/connectionpool.py:1099: InsecureRequestWarning: Unverified HTTPS request is being made to host 'openaipublic.blob.core.windows.net'. Adding certificate verification is strongly advised. See: https://urllib3.readthedocs.io/en/latest/advanced-usage.html#tls-warnings\n",
            "  warnings.warn(\n",
            "model.ckpt.data-00000-of-00001: 100%|██████████| 1.42G/1.42G [03:46<00:00, 6.28MiB/s]\n",
            "/usr/local/lib/python3.10/dist-packages/urllib3/connectionpool.py:1099: InsecureRequestWarning: Unverified HTTPS request is being made to host 'openaipublic.blob.core.windows.net'. Adding certificate verification is strongly advised. See: https://urllib3.readthedocs.io/en/latest/advanced-usage.html#tls-warnings\n",
            "  warnings.warn(\n",
            "model.ckpt.index: 100%|██████████| 10.4k/10.4k [00:00<00:00, 3.29MiB/s]\n",
            "/usr/local/lib/python3.10/dist-packages/urllib3/connectionpool.py:1099: InsecureRequestWarning: Unverified HTTPS request is being made to host 'openaipublic.blob.core.windows.net'. Adding certificate verification is strongly advised. See: https://urllib3.readthedocs.io/en/latest/advanced-usage.html#tls-warnings\n",
            "  warnings.warn(\n",
            "model.ckpt.meta: 100%|██████████| 927k/927k [00:01<00:00, 572kiB/s]\n",
            "/usr/local/lib/python3.10/dist-packages/urllib3/connectionpool.py:1099: InsecureRequestWarning: Unverified HTTPS request is being made to host 'openaipublic.blob.core.windows.net'. Adding certificate verification is strongly advised. See: https://urllib3.readthedocs.io/en/latest/advanced-usage.html#tls-warnings\n",
            "  warnings.warn(\n",
            "vocab.bpe: 100%|██████████| 456k/456k [00:01<00:00, 285kiB/s]\n"
          ]
        }
      ]
    },
    {
      "cell_type": "code",
      "source": [
        "#now let us test the model with the loaded parameters\n",
        "torch.manual_seed(123)\n",
        "input_text = format_input(val_data[0])\n",
        "print(input_text)"
      ],
      "metadata": {
        "colab": {
          "base_uri": "https://localhost:8080/"
        },
        "id": "2CVQaaSs3iWj",
        "outputId": "e93b4aa7-fabf-4d46-f968-e72baa640539"
      },
      "execution_count": 25,
      "outputs": [
        {
          "output_type": "stream",
          "name": "stdout",
          "text": [
            "Below is an instruction that describes a task. Write a response that appropriately completes the request.\n",
            "\n",
            "### Instruction:\n",
            "Convert the active sentence to passive: 'The chef cooks the meal every day.'\n"
          ]
        }
      ]
    },
    {
      "cell_type": "code",
      "source": [
        "#this function is used to generate\n",
        "def generate(model, idx, max_new_tokens, context_size, temperature=0.0, top_k=None, eos_id=None):\n",
        "\n",
        "\n",
        "    for _ in range(max_new_tokens):\n",
        "        idx_cond = idx[:, -context_size:]\n",
        "        with torch.no_grad(): #disabling gradients as they are not required during text generation\n",
        "            logits = model(idx_cond)\n",
        "        logits = logits[:, -1, :]\n",
        "\n",
        "        #Filter logits with top_k sampling\n",
        "        if top_k is not None:\n",
        "            # Keep only top_k values\n",
        "            top_logits, _ = torch.topk(logits, top_k)\n",
        "            min_val = top_logits[:, -1]\n",
        "            logits = torch.where(logits < min_val, torch.tensor(float(\"-inf\")).to(logits.device), logits)\n",
        "\n",
        "        # New: Apply temperature scaling\n",
        "        if temperature > 0.0:\n",
        "            logits = logits / temperature\n",
        "\n",
        "            # Apply softmax to get probabilities\n",
        "            probs = torch.softmax(logits, dim=-1)\n",
        "\n",
        "            # Sample from the distribution\n",
        "            idx_next = torch.multinomial(probs, num_samples=1)\n",
        "\n",
        "        # Otherwise if temperature and topk not specified: get idx of the vocab entry with the highest logits value\n",
        "        else:\n",
        "            idx_next = torch.argmax(logits, dim=-1, keepdim=True)\n",
        "\n",
        "        if idx_next == eos_id:  # Stop generating early if end-of-sequence token is encountered and eos_id is specified\n",
        "            break\n",
        "\n",
        "        #append sampled index to the running sequence\n",
        "        idx = torch.cat((idx, idx_next), dim=1)  # (batch_size, num_tokens+1)\n",
        "\n",
        "    return idx"
      ],
      "metadata": {
        "id": "t02ujVRO4aNO"
      },
      "execution_count": 26,
      "outputs": []
    },
    {
      "cell_type": "code",
      "source": [
        "def text_to_token_ids(text, tokenizer):\n",
        "    encoded = tokenizer.encode(text, allowed_special={'<|endoftext|>'})\n",
        "    encoded_tensor = torch.tensor(encoded).unsqueeze(0) # add batch dimension, because model expects input in batches\n",
        "    return encoded_tensor\n",
        "\n",
        "def token_ids_to_text(token_ids, tokenizer):\n",
        "    flat = token_ids.squeeze(0) # remove batch dimension\n",
        "    return tokenizer.decode(flat.tolist())"
      ],
      "metadata": {
        "id": "pEnRxWWG4ne0"
      },
      "execution_count": 27,
      "outputs": []
    },
    {
      "cell_type": "code",
      "source": [
        "token_ids = generate(\n",
        "    model=model,\n",
        "    idx=text_to_token_ids(input_text, tokenizer),\n",
        "    max_new_tokens=35,\n",
        "    context_size=BASE_CONFIG[\"context_length\"],\n",
        "    eos_id=50256,\n",
        ")\n",
        "generated_text = token_ids_to_text(token_ids, tokenizer)"
      ],
      "metadata": {
        "id": "22HOMuAO3_Zg"
      },
      "execution_count": 28,
      "outputs": []
    },
    {
      "cell_type": "code",
      "source": [
        "print(generated_text)"
      ],
      "metadata": {
        "colab": {
          "base_uri": "https://localhost:8080/"
        },
        "id": "6Q4pta7b5K4L",
        "outputId": "c91b6068-57e2-44ca-e249-756e1663c8f0"
      },
      "execution_count": 29,
      "outputs": [
        {
          "output_type": "stream",
          "name": "stdout",
          "text": [
            "Below is an instruction that describes a task. Write a response that appropriately completes the request.\n",
            "\n",
            "### Instruction:\n",
            "Convert the active sentence to passive: 'The chef cooks the meal every day.'\n",
            "\n",
            "### Response:\n",
            "\n",
            "The chef cooks the meal every day.\n",
            "\n",
            "### Instruction:\n",
            "\n",
            "Convert the active sentence to passive: 'The chef cooks the\n"
          ]
        }
      ]
    },
    {
      "cell_type": "code",
      "source": [
        "#isolating only the response\n",
        "response_text = generated_text[len(input_text):].strip()\n",
        "print(response_text)"
      ],
      "metadata": {
        "colab": {
          "base_uri": "https://localhost:8080/"
        },
        "id": "HAn64rrN5grR",
        "outputId": "e0ef5e2c-60f1-4731-b543-69adb52a0b36"
      },
      "execution_count": 30,
      "outputs": [
        {
          "output_type": "stream",
          "name": "stdout",
          "text": [
            "### Response:\n",
            "\n",
            "The chef cooks the meal every day.\n",
            "\n",
            "### Instruction:\n",
            "\n",
            "Convert the active sentence to passive: 'The chef cooks the\n"
          ]
        }
      ]
    },
    {
      "cell_type": "markdown",
      "source": [
        "As we can see from the output, the pretrained model is not yet capable of correctly\n",
        "following the given instruction.\n",
        "\n",
        "While it does create a \"Response\" section, it simply repeats\n",
        "the original input sentence and part of the instruction, failing to convert the active sentence\n",
        "to passive voice as requested.\n",
        "\n",
        "\n",
        "we will now implement the finetuning process to improve the model's\n",
        "ability to comprehend and appropriately respond to such requests."
      ],
      "metadata": {
        "id": "p_rcG0Xi54jp"
      }
    },
    {
      "cell_type": "markdown",
      "source": [
        "###Finetuning the LLM on instruction data"
      ],
      "metadata": {
        "id": "9jwvEJT_6ID0"
      }
    },
    {
      "cell_type": "markdown",
      "source": [
        "Given below are the functions used to to finetune the model parameters as it iterates through our instruction dataset. The main function is the train_model_simple, which updates the weights by calculating gradients as model iterates through each batch of the training dataloader. It also displays the the calculated loss of the model put in evaluation mode, both on the training dataloader and the validation dataloader, at constant intervals. At these intervals, for better understanding, it also makes the model in its current state to take an input text and prints the output of the model in text format"
      ],
      "metadata": {
        "id": "PkJemSXlBbSQ"
      }
    },
    {
      "cell_type": "code",
      "source": [
        "def calc_loss_batch(input_batch, target_batch, model, device):\n",
        "    input_batch, target_batch = input_batch.to(device), target_batch.to(device)\n",
        "    logits = model(input_batch)\n",
        "    loss = torch.nn.functional.cross_entropy(logits.flatten(0, 1), target_batch.flatten()) #flatten(0,1) use to convert the logits tensor of 3 dimensions (batch size x context_len x vocab), removes batch size dim\n",
        "    return loss\n",
        "\n",
        "\n",
        "def calc_loss_loader(data_loader, model, device, num_batches=None):\n",
        "    total_loss = 0.\n",
        "    if len(data_loader) == 0:\n",
        "        return float(\"nan\")\n",
        "    elif num_batches is None:\n",
        "        num_batches = len(data_loader)#=total num of batches in dataloader\n",
        "    else:\n",
        "        # Reduce the number of batches to match the total number of batches in the data loader\n",
        "        # if num_batches exceeds the number of batches in the data loader\n",
        "        num_batches = min(num_batches, len(data_loader))\n",
        "    for i, (input_batch, target_batch) in enumerate(data_loader):\n",
        "        if i < num_batches:\n",
        "            loss = calc_loss_batch(input_batch, target_batch, model, device)\n",
        "            total_loss += loss.item()\n",
        "        else:\n",
        "            break\n",
        "    return total_loss / num_batches\n",
        "\n",
        "def train_model_simple(model, train_loader, val_loader, optimizer, device, num_epochs,\n",
        "                       eval_freq, eval_iter, start_context, tokenizer):\n",
        "    # Initialize lists to track losses and tokens seen\n",
        "    train_losses, val_losses, track_tokens_seen = [], [], []\n",
        "    tokens_seen, global_step = 0, -1\n",
        "\n",
        "    # Main training loop\n",
        "    for epoch in range(num_epochs):\n",
        "        model.train()  # Set model to training mode\n",
        "\n",
        "        for input_batch, target_batch in train_loader:\n",
        "            optimizer.zero_grad() # Reset loss gradients from previous batch iteration\n",
        "            loss = calc_loss_batch(input_batch, target_batch, model, device)\n",
        "            loss.backward() # Calculate loss gradients\n",
        "            optimizer.step() # Update model weights using loss gradients\n",
        "            tokens_seen += input_batch.numel() # Returns the total number of elements (or tokens) in the input_batch.\n",
        "            global_step += 1\n",
        "\n",
        "            # Optional evaluation step\n",
        "            if global_step % eval_freq == 0:\n",
        "                train_loss, val_loss = evaluate_model(\n",
        "                    model, train_loader, val_loader, device, eval_iter)\n",
        "                train_losses.append(train_loss)\n",
        "                val_losses.append(val_loss)\n",
        "                track_tokens_seen.append(tokens_seen)\n",
        "                print(f\"Ep {epoch+1} (Step {global_step:06d}): \"\n",
        "                      f\"Train loss {train_loss:.3f}, Val loss {val_loss:.3f}\")\n",
        "\n",
        "        # Print a sample text after each epoch\n",
        "        generate_and_print_sample(\n",
        "            model, tokenizer, device, start_context\n",
        "        )\n",
        "\n",
        "    return train_losses, val_losses, track_tokens_seen\n"
      ],
      "metadata": {
        "id": "cYq5yZTD5861"
      },
      "execution_count": 31,
      "outputs": []
    },
    {
      "cell_type": "code",
      "source": [
        "def evaluate_model(model, train_loader, val_loader, device, eval_iter):\n",
        "    model.eval()\n",
        "    with torch.no_grad(): #disables gradient calc as we are only evaluating\n",
        "        train_loss = calc_loss_loader(train_loader, model, device, num_batches=eval_iter)\n",
        "        val_loss = calc_loss_loader(val_loader, model, device, num_batches=eval_iter)\n",
        "    model.train()\n",
        "    return train_loss, val_loss"
      ],
      "metadata": {
        "id": "bbnNmWzO6Mbl"
      },
      "execution_count": 32,
      "outputs": []
    },
    {
      "cell_type": "code",
      "source": [
        "def generate_and_print_sample(model, tokenizer, device, start_context):\n",
        "    model.eval()\n",
        "    context_size = model.pos_emb.weight.shape[0]\n",
        "    encoded = text_to_token_ids(start_context, tokenizer).to(device)\n",
        "    with torch.no_grad():\n",
        "        token_ids = generate_text_simple(\n",
        "            model=model, idx=encoded,\n",
        "            max_new_tokens=50, context_size=context_size\n",
        "        )\n",
        "    decoded_text = token_ids_to_text(token_ids, tokenizer)\n",
        "    print(decoded_text.replace(\"\\n\", \" \"))  # Compact print format\n",
        "    model.train()"
      ],
      "metadata": {
        "id": "GnkCBf306nto"
      },
      "execution_count": 33,
      "outputs": []
    },
    {
      "cell_type": "code",
      "source": [
        "def generate_text_simple(model, idx, max_new_tokens, context_size):\n",
        "\n",
        "    for _ in range(max_new_tokens):\n",
        "        idx_cond = idx[:, -context_size:]\n",
        "\n",
        "\n",
        "        with torch.no_grad():\n",
        "            logits = model(idx_cond) ### batch, n_tokens, vocab_size\n",
        "\n",
        "        logits = logits[:, -1, :]\n",
        "        probas = torch.softmax(logits, dim=-1)\n",
        "        idx_next = torch.argmax(probas, dim=-1, keepdim=True)\n",
        "        idx = torch.cat((idx, idx_next), dim=1)\n",
        "\n",
        "    return idx"
      ],
      "metadata": {
        "id": "KYbQbOVG6ulH"
      },
      "execution_count": 34,
      "outputs": []
    },
    {
      "cell_type": "code",
      "source": [
        "#calculating losses of pre-trained model\n",
        "model.to(device)\n",
        "\n",
        "torch.manual_seed(123)\n",
        "\n",
        "with torch.no_grad():\n",
        "    train_loss = calc_loss_loader(train_loader, model, device, num_batches=5)\n",
        "    val_loss = calc_loss_loader(val_loader, model, device, num_batches=5)\n",
        "\n",
        "print(\"Training loss:\", train_loss)\n",
        "print(\"Validation loss:\", val_loss)"
      ],
      "metadata": {
        "colab": {
          "base_uri": "https://localhost:8080/"
        },
        "id": "An3qeVh465CR",
        "outputId": "c8ebb282-1334-49f5-f037-a4b9e1301227"
      },
      "execution_count": 35,
      "outputs": [
        {
          "output_type": "stream",
          "name": "stdout",
          "text": [
            "Training loss: 3.825909471511841\n",
            "Validation loss: 3.761934232711792\n"
          ]
        }
      ]
    },
    {
      "cell_type": "code",
      "source": [
        "#training the model\n",
        "import time\n",
        "\n",
        "start_time = time.time()\n",
        "\n",
        "torch.manual_seed(123)\n",
        "\n",
        "optimizer = torch.optim.AdamW(model.parameters(), lr=0.00005, weight_decay=0.1)\n",
        "\n",
        "num_epochs = 1\n",
        "\n",
        "train_losses, val_losses, tokens_seen = train_model_simple(\n",
        "    model, train_loader, val_loader, optimizer, device,\n",
        "    num_epochs=num_epochs, eval_freq=5, eval_iter=5,\n",
        "    start_context=format_input(val_data[0]), tokenizer=tokenizer\n",
        ")\n",
        "\n",
        "end_time = time.time()\n",
        "execution_time_minutes = (end_time - start_time) / 60\n",
        "print(f\"Training completed in {execution_time_minutes:.2f} minutes.\")"
      ],
      "metadata": {
        "colab": {
          "base_uri": "https://localhost:8080/"
        },
        "id": "Y6VROAP77UCe",
        "outputId": "8b8f39bc-8398-4384-ce71-d42d657c39ca"
      },
      "execution_count": 36,
      "outputs": [
        {
          "output_type": "stream",
          "name": "stdout",
          "text": [
            "Ep 1 (Step 000000): Train loss 2.637, Val loss 2.626\n",
            "Ep 1 (Step 000005): Train loss 1.174, Val loss 1.103\n",
            "Ep 1 (Step 000010): Train loss 0.872, Val loss 0.944\n",
            "Ep 1 (Step 000015): Train loss 0.857, Val loss 0.906\n",
            "Ep 1 (Step 000020): Train loss 0.776, Val loss 0.881\n",
            "Ep 1 (Step 000025): Train loss 0.754, Val loss 0.859\n",
            "Ep 1 (Step 000030): Train loss 0.799, Val loss 0.836\n",
            "Ep 1 (Step 000035): Train loss 0.714, Val loss 0.808\n",
            "Ep 1 (Step 000040): Train loss 0.672, Val loss 0.806\n",
            "Ep 1 (Step 000045): Train loss 0.633, Val loss 0.789\n",
            "Ep 1 (Step 000050): Train loss 0.663, Val loss 0.783\n",
            "Ep 1 (Step 000055): Train loss 0.760, Val loss 0.763\n",
            "Ep 1 (Step 000060): Train loss 0.719, Val loss 0.743\n",
            "Ep 1 (Step 000065): Train loss 0.653, Val loss 0.735\n",
            "Ep 1 (Step 000070): Train loss 0.533, Val loss 0.729\n",
            "Ep 1 (Step 000075): Train loss 0.568, Val loss 0.729\n",
            "Ep 1 (Step 000080): Train loss 0.604, Val loss 0.725\n",
            "Ep 1 (Step 000085): Train loss 0.509, Val loss 0.710\n",
            "Ep 1 (Step 000090): Train loss 0.563, Val loss 0.691\n",
            "Ep 1 (Step 000095): Train loss 0.502, Val loss 0.681\n",
            "Ep 1 (Step 000100): Train loss 0.504, Val loss 0.677\n",
            "Ep 1 (Step 000105): Train loss 0.565, Val loss 0.670\n",
            "Ep 1 (Step 000110): Train loss 0.554, Val loss 0.666\n",
            "Ep 1 (Step 000115): Train loss 0.509, Val loss 0.663\n",
            "Below is an instruction that describes a task. Write a response that appropriately completes the request.  ### Instruction: Convert the active sentence to passive: 'The chef cooks the meal every day.'  ### Response: The meal is prepared every day by the chef.<|endoftext|>The following is an instruction that describes a task. Write a response that appropriately completes the request.  ### Instruction: Convert the active sentence to passive:\n",
            "Training completed in 1.63 minutes.\n"
          ]
        }
      ]
    },
    {
      "cell_type": "markdown",
      "source": [
        "As we can see based on the outputs above, the model trains well, as we can tell based on the decreasing training loss and validation loss values.\n",
        "    \n"
      ],
      "metadata": {
        "id": "YOEyKABpDRp_"
      }
    },
    {
      "cell_type": "markdown",
      "source": [
        "###Training and Validation loss curves\n"
      ],
      "metadata": {
        "id": "Q8zCs9Q3Bfju"
      }
    },
    {
      "cell_type": "code",
      "source": [
        "import matplotlib.pyplot as plt\n",
        "from matplotlib.ticker import MaxNLocator\n",
        "\n",
        "\n",
        "def plot_losses(epochs_seen, tokens_seen, train_losses, val_losses):\n",
        "    fig, ax1 = plt.subplots(figsize=(5, 3))\n",
        "\n",
        "    # Plot training and validation loss against epochs\n",
        "    ax1.plot(epochs_seen, train_losses, label=\"Training loss\")\n",
        "    ax1.plot(epochs_seen, val_losses, linestyle=\"-.\", label=\"Validation loss\")\n",
        "    ax1.set_xlabel(\"Epochs\")\n",
        "    ax1.set_ylabel(\"Loss\")\n",
        "    ax1.legend(loc=\"upper right\")\n",
        "    ax1.xaxis.set_major_locator(MaxNLocator(integer=True))  # only show integer labels on x-axis\n",
        "\n",
        "    # Create a second x-axis for tokens seen\n",
        "    ax2 = ax1.twiny()  # Create a second x-axis that shares the same y-axis\n",
        "    ax2.plot(tokens_seen, train_losses, alpha=0)  # Invisible plot for aligning ticks\n",
        "    ax2.set_xlabel(\"Tokens seen\")\n",
        "\n",
        "    fig.tight_layout()  # Adjust layout to make room\n",
        "    plt.savefig(\"loss-plot.pdf\")\n",
        "    plt.show()"
      ],
      "metadata": {
        "id": "s9gqZRUZ7sYJ"
      },
      "execution_count": 37,
      "outputs": []
    },
    {
      "cell_type": "code",
      "source": [
        "epochs_tensor = torch.linspace(0, num_epochs, len(train_losses))\n",
        "plot_losses(epochs_tensor, tokens_seen, train_losses, val_losses)"
      ],
      "metadata": {
        "colab": {
          "base_uri": "https://localhost:8080/",
          "height": 307
        },
        "id": "8NhUML0kDxtf",
        "outputId": "f96a020f-83fd-4a94-8300-2d859acd5775"
      },
      "execution_count": 38,
      "outputs": [
        {
          "output_type": "display_data",
          "data": {
            "text/plain": [
              "<Figure size 500x300 with 2 Axes>"
            ],
            "image/png": "[encoded data removed]"
          },
          "metadata": {}
        }
      ]
    },
    {
      "cell_type": "markdown",
      "source": [
        "As we can see in the loss plot shown above, the model's performance on both the\n",
        "training and validation sets improves substantially over the course of training."
      ],
      "metadata": {
        "id": "nuj_OA8-C42N"
      }
    },
    {
      "cell_type": "markdown",
      "source": [
        "###Extracting and saving responses of model on test dataset"
      ],
      "metadata": {
        "id": "GgU0iS-tCcb6"
      }
    },
    {
      "cell_type": "markdown",
      "source": [
        "The following code is used to iterate trought the test dataset , generates response using the model, extracts the relevant response text, stores it in the test_data list, and after iterating through the entire dataset, saves the updates test_data list into a json file."
      ],
      "metadata": {
        "id": "CC-VAN8r9Mte"
      }
    },
    {
      "cell_type": "code",
      "source": [
        "from tqdm import tqdm\n",
        "\n",
        "for i, entry in tqdm(enumerate(test_data), total=len(test_data)):\n",
        "\n",
        "    input_text = format_input(entry)\n",
        "\n",
        "    token_ids = generate(\n",
        "        model=model,\n",
        "        idx=text_to_token_ids(input_text, tokenizer).to(device),\n",
        "        max_new_tokens=256,\n",
        "        context_size=BASE_CONFIG[\"context_length\"],\n",
        "        eos_id=50256\n",
        "    )\n",
        "    generated_text = token_ids_to_text(token_ids, tokenizer)\n",
        "    response_text = generated_text[len(input_text):].replace(\"### Response:\", \"\").strip() #used to replace the inter input text with just ### Response\n",
        "\n",
        "    test_data[i][\"model_response\"] = response_text\n",
        "\n",
        "\n",
        "with open(\"instruction-data-with-response.json\", \"w\") as file:\n",
        "    json.dump(test_data, file, indent=4)"
      ],
      "metadata": {
        "colab": {
          "base_uri": "https://localhost:8080/"
        },
        "id": "6bknwn03Bj8Q",
        "outputId": "17f44a57-a553-4288-f7aa-3e9e003d7833"
      },
      "execution_count": 39,
      "outputs": [
        {
          "output_type": "stream",
          "name": "stderr",
          "text": [
            "100%|██████████| 110/110 [01:28<00:00,  1.25it/s]\n"
          ]
        }
      ]
    },
    {
      "cell_type": "code",
      "source": [
        "print(test_data[0])"
      ],
      "metadata": {
        "colab": {
          "base_uri": "https://localhost:8080/"
        },
        "id": "XJTLNMWYC6UU",
        "outputId": "9f04832d-12f5-4753-85e7-fac273c241d3"
      },
      "execution_count": 40,
      "outputs": [
        {
          "output_type": "stream",
          "name": "stdout",
          "text": [
            "{'instruction': 'Rewrite the sentence using a simile.', 'input': 'The car is very fast.', 'output': 'The car is as fast as lightning.', 'model_response': 'The car is as fast as a bullet.'}\n"
          ]
        }
      ]
    },
    {
      "cell_type": "markdown",
      "source": [
        "###Testing the fine-tuned LLM"
      ],
      "metadata": {
        "id": "ZrhAylK4Role"
      }
    },
    {
      "cell_type": "code",
      "source": [
        "ex_text = \"What is the chemical formula for Sodium Chloride?\"\n",
        "ex_entry = {'instruction': ex_text, 'input': ''}\n",
        "ex_input_text = format_input(ex_entry)\n",
        "ex_token_ids = generate(\n",
        "    model=model,\n",
        "    idx=text_to_token_ids(ex_input_text, tokenizer).to(device),\n",
        "    max_new_tokens=256,\n",
        "    context_size=BASE_CONFIG[\"context_length\"],\n",
        "    eos_id=50256\n",
        ")\n",
        "ex_generated_text = token_ids_to_text(ex_token_ids, tokenizer)\n",
        "print(ex_generated_text)\n",
        "\n"
      ],
      "metadata": {
        "colab": {
          "base_uri": "https://localhost:8080/"
        },
        "id": "EZ5SzHa8RqTR",
        "outputId": "13fc9a51-db65-4238-b2cb-caf21021332f"
      },
      "execution_count": 41,
      "outputs": [
        {
          "output_type": "stream",
          "name": "stdout",
          "text": [
            "Below is an instruction that describes a task. Write a response that appropriately completes the request.\n",
            "\n",
            "### Instruction:\n",
            "What is the chemical formula for Sodium Chloride?\n",
            "\n",
            "### Response:\n",
            "The chemical formula for Sodium Chloride is NaCl.\n"
          ]
        }
      ]
    },
    {
      "cell_type": "code",
      "source": [
        "ex_text = \"Who is the greatest basketball player\"\n",
        "ex_entry = {'instruction': ex_text, 'input': ''}\n",
        "ex_input_text = format_input(ex_entry)\n",
        "ex_token_ids = generate(\n",
        "    model=model,\n",
        "    idx=text_to_token_ids(ex_input_text, tokenizer).to(device),\n",
        "    max_new_tokens=256,\n",
        "    context_size=BASE_CONFIG[\"context_length\"],\n",
        "    eos_id=50256\n",
        ")\n",
        "ex_generated_text = token_ids_to_text(ex_token_ids, tokenizer)\n",
        "print(ex_generated_text)\n",
        "\n"
      ],
      "metadata": {
        "colab": {
          "base_uri": "https://localhost:8080/"
        },
        "id": "xejOTyjsCzDl",
        "outputId": "af21af20-2d41-4963-bfee-f1be5946275d"
      },
      "execution_count": 43,
      "outputs": [
        {
          "output_type": "stream",
          "name": "stdout",
          "text": [
            "Below is an instruction that describes a task. Write a response that appropriately completes the request.\n",
            "\n",
            "### Instruction:\n",
            "Who is the greatest basketball player of all time?\n",
            "\n",
            "### Response:\n",
            "The greatest basketball player of all time is Michael Jordan.\n"
          ]
        }
      ]
    },
    {
      "cell_type": "code",
      "source": [
        "ex_text = \"What year did india get independance?\"\n",
        "ex_entry = {'instruction': ex_text, 'input': ''}\n",
        "ex_input_text = format_input(ex_entry)\n",
        "ex_token_ids = generate(\n",
        "    model=model,\n",
        "    idx=text_to_token_ids(ex_input_text, tokenizer).to(device),\n",
        "    max_new_tokens=256,\n",
        "    context_size=BASE_CONFIG[\"context_length\"],\n",
        "    eos_id=50256\n",
        ")\n",
        "ex_generated_text = token_ids_to_text(ex_token_ids, tokenizer)\n",
        "print(ex_generated_text)\n",
        "\n"
      ],
      "metadata": {
        "colab": {
          "base_uri": "https://localhost:8080/"
        },
        "id": "Mgyw4O8JDDv0",
        "outputId": "4bb6925c-765c-461b-a4e4-05c98db049c2"
      },
      "execution_count": 44,
      "outputs": [
        {
          "output_type": "stream",
          "name": "stdout",
          "text": [
            "Below is an instruction that describes a task. Write a response that appropriately completes the request.\n",
            "\n",
            "### Instruction:\n",
            "What year did india get independance?\n",
            "\n",
            "### Response:\n",
            "India got independence in 1947.\n"
          ]
        }
      ]
    },
    {
      "cell_type": "code",
      "source": [
        "ex_text = \"What is engineering?\"\n",
        "ex_entry = {'instruction': ex_text, 'input': ''}\n",
        "ex_input_text = format_input(ex_entry)\n",
        "ex_token_ids = generate(\n",
        "    model=model,\n",
        "    idx=text_to_token_ids(ex_input_text, tokenizer).to(device),\n",
        "    max_new_tokens=256,\n",
        "    context_size=BASE_CONFIG[\"context_length\"],\n",
        "    eos_id=50256\n",
        ")\n",
        "ex_generated_text = token_ids_to_text(ex_token_ids, tokenizer)\n",
        "print(ex_generated_text)\n",
        "\n"
      ],
      "metadata": {
        "colab": {
          "base_uri": "https://localhost:8080/"
        },
        "id": "N8pwvo1WE23m",
        "outputId": "23a578ba-2a9f-41f7-8473-f916af1ace3c"
      },
      "execution_count": 53,
      "outputs": [
        {
          "output_type": "stream",
          "name": "stdout",
          "text": [
            "Below is an instruction that describes a task. Write a response that appropriately completes the request.\n",
            "\n",
            "### Instruction:\n",
            "What is engineering?\n",
            "\n",
            "### Response:\n",
            "Engineering is the study of the physical, chemical, and biological processes that control the movement of matter and energy.\n"
          ]
        }
      ]
    },
    {
      "cell_type": "code",
      "source": [
        "ex_text = \"give me a small description of the following person.\"\n",
        "ex_input = \"Mahatma Gandhi\"\n",
        "ex_entry = {'instruction': ex_text, 'input': ex_input}\n",
        "ex_input_text = format_input(ex_entry)\n",
        "ex_token_ids = generate(\n",
        "    model=model,\n",
        "    idx=text_to_token_ids(ex_input_text, tokenizer).to(device),\n",
        "    max_new_tokens=256,\n",
        "    context_size=BASE_CONFIG[\"context_length\"],\n",
        "    eos_id=50256\n",
        ")\n",
        "ex_generated_text = token_ids_to_text(ex_token_ids, tokenizer)\n",
        "print(ex_generated_text)\n",
        "\n"
      ],
      "metadata": {
        "colab": {
          "base_uri": "https://localhost:8080/"
        },
        "id": "DlCkpkrfFVUw",
        "outputId": "77cde840-74a5-41f9-e11e-4965c49b5200"
      },
      "execution_count": 54,
      "outputs": [
        {
          "output_type": "stream",
          "name": "stdout",
          "text": [
            "Below is an instruction that describes a task. Write a response that appropriately completes the request.\n",
            "\n",
            "### Instruction:\n",
            "give me a small description of the following person.\n",
            "\n",
            "### Input:\n",
            "Mahatma Gandhi\n",
            "\n",
            "### Response:\n",
            "The person described in the sentence is Mahatma Gandhi.\n"
          ]
        }
      ]
    },
    {
      "cell_type": "markdown",
      "source": [
        "To further improve our model's performance, we can explore various strategies, such as:\n",
        "\n",
        "(1) Adjusting the hyperparameters during finetuning, such as the learning\n",
        "rate, batch size, or number of epochs.\n",
        "\n",
        "\n",
        "(2) Increasing the size of the training dataset or diversifying the examples to\n",
        "cover a broader range of topics and styles.\n",
        "\n",
        "\n",
        "(3) Experimenting with different prompts or instruction formats to guide the\n",
        "model's responses more effectively.\n",
        "\n",
        "\n",
        "(4) Considering the use of a larger pretrained model, which may have greater\n",
        "capacity to capture complex patterns and generate more accurate\n",
        "responses.\n"
      ],
      "metadata": {
        "id": "dqfxIcegASiw"
      }
    }
  ]
}